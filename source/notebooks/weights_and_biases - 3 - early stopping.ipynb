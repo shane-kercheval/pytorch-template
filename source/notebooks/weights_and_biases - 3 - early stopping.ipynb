{
 "cells": [
  {
   "cell_type": "code",
   "execution_count": 1,
   "metadata": {},
   "outputs": [
    {
     "name": "stderr",
     "output_type": "stream",
     "text": [
      "/usr/local/lib/python3.11/site-packages/tqdm/auto.py:21: TqdmWarning: IProgress not found. Please update jupyter and ipywidgets. See https://ipywidgets.readthedocs.io/en/stable/user_install.html\n",
      "  from .autonotebook import tqdm as notebook_tqdm\n"
     ]
    }
   ],
   "source": [
    "import logging\n",
    "import os\n",
    "import random\n",
    "import math\n",
    "import numpy as np\n",
    "import torch\n",
    "from torch import nn\n",
    "from torch.utils.data import TensorDataset, DataLoader\n",
    "# import torchvision\n",
    "# import torchvision.transforms as transforms\n",
    "import matplotlib.pyplot as plt\n",
    "import seaborn as sns\n",
    "from sklearn.metrics import confusion_matrix, precision_recall_fscore_support\n",
    "from sklearn.datasets import fetch_openml\n",
    "from sklearn.model_selection import train_test_split\n",
    "from tqdm.auto import tqdm\n",
    "import wandb\n",
    "from source.domain.pytorch_wrappers import EarlyStopping\n",
    "\n",
    "# save weights and biases api key to .env file in project directory\n",
    "assert os.getenv('WANDB_API_KEY')\n",
    "assert torch.cuda.is_available()\n",
    "\n",
    "# Ensure deterministic behavior\n",
    "torch.backends.cudnn.deterministic = True\n",
    "random.seed(hash(\"setting random seeds\") % 2**32 - 1)\n",
    "np.random.seed(hash(\"improves reproducibility\") % 2**32 - 1)  # noqa: NPY002\n",
    "torch.manual_seed(hash(\"by removing stochasticity\") % 2**32 - 1)\n",
    "torch.cuda.manual_seed_all(hash(\"so runs are repeatable\") % 2**32 - 1)\n",
    "\n",
    "# Device configuration\n",
    "DEVICE = torch.device(\"cuda:0\" if torch.cuda.is_available() else \"cpu\")\n",
    "\n",
    "logging.config.fileConfig(\n",
    "    os.path.join(os.getcwd(), '/code/source/config/logging.conf'),\n",
    "    # defaults={'logfilename': os.path.join(os.getcwd(), 'tests/test_files/log.log')},\n",
    "    disable_existing_loggers=False,\n",
    ")"
   ]
  },
  {
   "cell_type": "code",
   "execution_count": 2,
   "metadata": {},
   "outputs": [
    {
     "name": "stderr",
     "output_type": "stream",
     "text": [
      "2023-12-29 19:16:51 - ERROR    | Failed to detect the name of this notebook, you can set it manually with the WANDB_NOTEBOOK_NAME environment variable to enable code saving.\n",
      "\u001b[34m\u001b[1mwandb\u001b[0m: Currently logged in as: \u001b[33mshane-kercheval\u001b[0m. Use \u001b[1m`wandb login --relogin`\u001b[0m to force relogin\n"
     ]
    },
    {
     "data": {
      "text/plain": [
       "True"
      ]
     },
     "execution_count": 2,
     "metadata": {},
     "output_type": "execute_result"
    }
   ],
   "source": [
    "wandb.login()"
   ]
  },
  {
   "cell_type": "code",
   "execution_count": 3,
   "metadata": {},
   "outputs": [
    {
     "name": "stdout",
     "output_type": "stream",
     "text": [
      "Training set  : X-torch.Size([56000, 1, 28, 28]), y-torch.Size([56000])\n",
      "Validation set: X-torch.Size([7000, 1, 28, 28]), y-torch.Size([7000])\n",
      "Test set      : X-torch.Size([7000, 1, 28, 28]), y-torch.Size([7000])\n"
     ]
    }
   ],
   "source": [
    "x, y = fetch_openml('mnist_784', version=1, return_X_y=True, parser='auto')\n",
    "x = torch.tensor(x.values, dtype=torch.float32)\n",
    "y = torch.tensor(y.astype(int).values, dtype=torch.long)\n",
    "\n",
    "# need to make this dynamic based on Fully Connected vs Convolutional\n",
    "# Reshape data to have channel dimension\n",
    "# MNIST images are 28x28, so we reshape them to [batch_size, 1, 28, 28]\n",
    "x = x.reshape(-1, 1, 28, 28)\n",
    "\n",
    "# 80% train; 10% validation; 10% test\n",
    "x_train, x_test, y_train, y_test = train_test_split(x, y, test_size=0.2, random_state=42)\n",
    "x_test, x_val, y_test, y_val = train_test_split(x_test, y_test, test_size=0.5, random_state=42)\n",
    "\n",
    "print(f\"Training set  : X-{x_train.shape}, y-{y_train.shape}\")\n",
    "print(f\"Validation set: X-{x_val.shape}, y-{y_val.shape}\")\n",
    "print(f\"Test set      : X-{x_test.shape}, y-{y_test.shape}\")"
   ]
  },
  {
   "cell_type": "code",
   "execution_count": 4,
   "metadata": {},
   "outputs": [],
   "source": [
    "class ConvNet(nn.Module):\n",
    "    \"\"\"Convolutional neural network (two convolutional layers).\"\"\"\n",
    "\n",
    "    def __init__(self, kernels: list, classes: int = 10):\n",
    "        super().__init__()\n",
    "\n",
    "        self.layer1 = nn.Sequential(\n",
    "            nn.Conv2d(1, kernels[0], kernel_size=5, stride=1, padding=2),\n",
    "            nn.ReLU(),\n",
    "            nn.MaxPool2d(kernel_size=2, stride=2))\n",
    "        self.layer2 = nn.Sequential(\n",
    "            nn.Conv2d(16, kernels[1], kernel_size=5, stride=1, padding=2),\n",
    "            nn.ReLU(),\n",
    "            nn.MaxPool2d(kernel_size=2, stride=2))\n",
    "        self.fc = nn.Linear(7 * 7 * kernels[-1], classes)\n",
    "\n",
    "    def forward(self, x: torch.Tensor) -> torch.Tensor:\n",
    "        \"\"\"Forward pass.\"\"\"\n",
    "        out = self.layer1(x)\n",
    "        out = self.layer2(out)\n",
    "        out = out.reshape(out.size(0), -1)\n",
    "        return self.fc(out)"
   ]
  },
  {
   "cell_type": "code",
   "execution_count": 5,
   "metadata": {},
   "outputs": [],
   "source": [
    "def make_loader(x: torch.tensor, y: torch.tensor, batch_size: int) -> DataLoader:\n",
    "    \"\"\"Make a DataLoader from a given dataset.\"\"\"\n",
    "    return DataLoader(\n",
    "        dataset=TensorDataset(x, y),\n",
    "        batch_size=batch_size,\n",
    "        shuffle=True,\n",
    "        pin_memory=True,\n",
    "        num_workers=2,\n",
    "    )\n",
    "\n",
    "\n",
    "def make(config: dict) -> tuple:\n",
    "    \"\"\"Make the model, data, and optimization objects.\"\"\"\n",
    "    # Make the data\n",
    "    train_loader = make_loader(x_train, y_train, batch_size=config.batch_size)\n",
    "    validation_loader = make_loader(x_val, y_val, batch_size=config.batch_size)\n",
    "    test_loader = make_loader(x_test, y_test, batch_size=config.batch_size)\n",
    "\n",
    "    # Make the model\n",
    "    model = ConvNet(config.kernels, config.classes).to(DEVICE)\n",
    "\n",
    "    # Make the loss and optimizer\n",
    "    criterion = nn.CrossEntropyLoss()\n",
    "\n",
    "    if config.optimizer == 'Adam':\n",
    "        optimizer_creator = lambda lr: torch.optim.Adam(model.parameters(), lr=lr)  # noqa: E731\n",
    "    elif config.optimizer == 'SGD':\n",
    "        optimizer_creator = lambda lr: torch.optim.SGD(model.parameters(), lr=lr)  # noqa: E731\n",
    "    else:\n",
    "        raise ValueError(f\"Unknown optimizer: {config.optimizer}\")\n",
    "\n",
    "    learning_rates = config.learning_rates\n",
    "    if isinstance(learning_rates, float):\n",
    "        learning_rates = [learning_rates]\n",
    "\n",
    "    return (\n",
    "        model,\n",
    "        train_loader,\n",
    "        validation_loader,\n",
    "        test_loader,\n",
    "        criterion,\n",
    "        optimizer_creator,\n",
    "        learning_rates,\n",
    "    )\n",
    "\n",
    "\n",
    "def train_log(training_loss: float, validation_loss: float, example_ct: int, epoch: int) -> None:\n",
    "    \"\"\"Logs loss to the console and wandb.\"\"\"\n",
    "    # Where the magic happens\n",
    "    wandb.log(\n",
    "        {\n",
    "            'epoch': epoch,\n",
    "            'training_loss': training_loss,\n",
    "            'validation_loss': validation_loss,\n",
    "        },\n",
    "        step=example_ct,\n",
    "    )\n",
    "    print(\n",
    "        f\"Training/Validation Loss after {str(example_ct).zfill(5)} examples: \",\n",
    "        f\"{training_loss:.3f} | {validation_loss:.3f}\",\n",
    "    )\n",
    "\n",
    "\n",
    "def calculate_average_loss(\n",
    "        data_loader: DataLoader,\n",
    "        model: nn.Module,\n",
    "        loss_func: callable) -> float:\n",
    "    \"\"\"Calculates the average loss over a dataset.\"\"\"\n",
    "    running_loss = 0\n",
    "    total_samples = 0\n",
    "    with torch.no_grad():\n",
    "        for x, y in data_loader:\n",
    "            x, y = x.to(DEVICE), y.to(DEVICE)  # noqa: PLW2901\n",
    "            loss = loss_func(model(x), y)\n",
    "            # weighted average of the loss adjusted for the batch size\n",
    "            running_loss += loss.item() * x.shape[0]\n",
    "            total_samples += x.shape[0]\n",
    "    return running_loss / total_samples\n",
    "\n",
    "\n",
    "def train(\n",
    "        model: nn.Module,\n",
    "        train_loader: DataLoader,\n",
    "        validation_loader: DataLoader,\n",
    "        criterion: callable,\n",
    "        optimizer_creator: callable,\n",
    "        learning_rates: list[float],\n",
    "        config: dict) -> None:\n",
    "    \"\"\"\n",
    "    Trains the model for the number of epochs specified in the config. Uses early stopping to\n",
    "    prevent overfitting. Takes multiple learning rates and if early stopping is triggered, the\n",
    "    learning rate is reduced and training is continued until no learning rates remain.\n",
    "    \"\"\"\n",
    "    model.train()\n",
    "    # Tell wandb to watch what the model gets up to: gradients, weights, and more!\n",
    "    wandb.watch(model, criterion, log=\"all\", log_freq=10)\n",
    "\n",
    "    # Run training and track with wandb\n",
    "    example_ct = 0  # number of examples seen\n",
    "\n",
    "    log_interval = 30 # i.e. every 30 batches\n",
    "    total_batches = len(train_loader)\n",
    "    log_interval = max(1, math.floor(total_batches / log_interval))\n",
    "\n",
    "    early_stopping = EarlyStopping(\n",
    "        model=model,\n",
    "        patience=3,\n",
    "        delta=0.05,  # new loss is required to be >%5 better than previous best\n",
    "        delta_type='relative',\n",
    "        verbose=True,\n",
    "    )\n",
    "    learning_rate = learning_rates.pop(0)\n",
    "    optimizer = optimizer_creator(lr=learning_rate)\n",
    "    for epoch in tqdm(range(config.epochs)):\n",
    "        print(f\"Epoch {epoch} - learning rate: {learning_rate}\")\n",
    "        running_training_loss = 0\n",
    "        total_train_samples = 0\n",
    "        for batch_index, (x_batch, y_batch) in enumerate(train_loader):\n",
    "            x_batch, y_batch = x_batch.to(DEVICE), y_batch.to(DEVICE)  # noqa: PLW2901\n",
    "            # ➡ Forward pass\n",
    "            outputs = model(x_batch)\n",
    "            loss = criterion(outputs, y_batch)\n",
    "            # ⬅ Backward pass & optimize\n",
    "            optimizer.zero_grad()\n",
    "            loss.backward()\n",
    "            optimizer.step()\n",
    "\n",
    "            example_ct += len(x_batch)\n",
    "            # weighted average of the training loss\n",
    "            running_training_loss += loss.item() * x_batch.shape[0]\n",
    "            total_train_samples += x_batch.shape[0]\n",
    "            # Report metrics every 25th batch\n",
    "            if batch_index % log_interval == 0:\n",
    "                avg_training_loss = running_training_loss / total_train_samples\n",
    "                running_training_loss = 0\n",
    "                total_train_samples = 0\n",
    "                model.eval()\n",
    "                average_validation_loss = calculate_average_loss(\n",
    "                    data_loader=validation_loader, model=model, loss_func=criterion,\n",
    "                )\n",
    "                train_log(avg_training_loss, average_validation_loss, example_ct, epoch)\n",
    "                model.train()\n",
    "\n",
    "        if early_stopping(average_validation_loss):\n",
    "            print(\"Early stopping\")\n",
    "            # we have stopped training (for this learning rate), load the previous best state\n",
    "            model.load_state_dict(early_stopping.best_state)\n",
    "            # if we have more learning rates, reset the optimizer and early stopping and\n",
    "            # continue training\n",
    "            if learning_rates:\n",
    "                learning_rate = learning_rates.pop(0)\n",
    "                print(f\"Reducing learning rate: {learning_rate}\")\n",
    "                optimizer = optimizer_creator(lr=learning_rate)\n",
    "                early_stopping.reset()\n",
    "            else:\n",
    "                break\n",
    "\n",
    "\n",
    "def plot_misclassified_sample(\n",
    "        num_images: int,\n",
    "        images: torch.tensor,\n",
    "        predictions: np.array,\n",
    "        labels: np.array) -> None:\n",
    "    \"\"\"Plot a sample of the misclassified images.\"\"\"\n",
    "    fig, ax = plt.subplots(nrows=num_images // 5, ncols=5, sharex=True, sharey=True)\n",
    "    ax = ax.flatten()\n",
    "    mismatched_indexes = np.where(predictions != labels)[0]\n",
    "    rows = np.random.choice(mismatched_indexes, size=num_images, replace=False)  # noqa: NPY002\n",
    "    for i, row in enumerate(rows):\n",
    "        # img = X_test[row].cpu().numpy().reshape(28, 28)\n",
    "        img = images[row].cpu().numpy().reshape(28, 28)\n",
    "        ax[i].imshow(img, cmap='Greys')\n",
    "        title_color = 'red' if predictions[row] != y_test[row] else 'black'\n",
    "        ax[i].set_title(f'P:{predictions[row]} - A:{y_test[row]}', color=title_color)\n",
    "    ax[0].set_xticks([])\n",
    "    ax[0].set_yticks([])\n",
    "    plt.tight_layout()\n",
    "    wandb.log({'sample-misclassified': wandb.Image(fig)})\n",
    "\n",
    "\n",
    "def plot_heatmap(predictions: np.array, labels: np.array) -> None:\n",
    "    \"\"\"Plot a heatmap of the misclassified samples.\"\"\"\n",
    "    # create a heatmap of misclassified samples\n",
    "    cm = confusion_matrix(labels, predictions)\n",
    "    # remove the diagonal values (correct predictions) for better visualization\n",
    "    np.fill_diagonal(cm, 0)\n",
    "    fig = plt.figure(figsize=(10, 10))\n",
    "    sns.heatmap(cm, annot=True, fmt='d', cmap='Blues', cbar=False)\n",
    "    plt.xlabel('Predicted')\n",
    "    plt.ylabel('Actual')\n",
    "    plt.title('Count of Misclassified Samples by Class')\n",
    "    wandb.log({'count-misclassified': wandb.Image(fig)})\n",
    "\n",
    "\n",
    "def plot_scores(precision: list, recall: list, f1: list) -> None:\n",
    "    \"\"\"Plot the precision, recall, and f1 scores for each class.\"\"\"\n",
    "    # create a bar plot\n",
    "    x = range(10)\n",
    "    width = 0.2\n",
    "    fig, ax = plt.subplots()\n",
    "    _ = ax.bar(x, precision, width, label='Precision')\n",
    "    _= ax.bar([i + width for i in x], recall, width, label='Recall')\n",
    "    _ = ax.bar([i + 2 * width for i in x], f1, width, label='F1')\n",
    "    # add labels, title, and legend\n",
    "    ax.set_xlabel('Class')\n",
    "    ax.set_ylabel('Score')\n",
    "    ax.set_title('Accuracy Metrics by Class')\n",
    "    ax.set_xticks([i + width for i in x])\n",
    "    ax.set_xticklabels(range(10))\n",
    "    ax.legend()\n",
    "    # find the minimum and maximum score values (from precision, recall, and f1 lists) and set the\n",
    "    # y limits slightly wider to make the plot easier to read\n",
    "    ymin = min(*precision, *recall, *f1)\n",
    "    ymax = max(*precision, *recall, *f1)\n",
    "    ax.set_ylim([ymin - 0.03, min(ymax + 0.03, 1)])\n",
    "    wandb.log({'scores': wandb.Image(fig)})\n",
    "\n",
    "\n",
    "def test(model: nn.Module, test_loader: DataLoader, criterion: callable) -> None:\n",
    "    \"\"\"Tests the model on the test set. Logs the accuracy to the console and to wandb.\"\"\"\n",
    "    model.eval()\n",
    "    avg_test_loss = calculate_average_loss(data_loader=test_loader, model=model, loss_func=criterion)  # noqa\n",
    "    print(f\"Average Loss on test set: {avg_test_loss:.3f}\")\n",
    "    wandb.log({'test_loss': avg_test_loss})\n",
    "\n",
    "    # Log confusion matrix\n",
    "    with torch.no_grad():\n",
    "        all_predictions = []\n",
    "        all_labels = []\n",
    "        for x, y in test_loader:\n",
    "            x, y = x.to(DEVICE), y.cpu().numpy()  # noqa: PLW2901\n",
    "            outputs = model(x)\n",
    "            predictions = torch.argmax(outputs.data, dim=1).cpu().numpy()\n",
    "            all_predictions.extend(predictions)\n",
    "            all_labels.extend(y)\n",
    "\n",
    "    all_predictions = np.array(all_predictions)\n",
    "    all_labels = np.array(all_labels)\n",
    "    plot_misclassified_sample(num_images=30, images=x_test, predictions=all_predictions, labels=all_labels)  # noqa\n",
    "    plot_heatmap(predictions=all_predictions, labels=all_labels)\n",
    "\n",
    "    # for each class, calculate the accuracy metrics\n",
    "    precision, recall, f1, _ = precision_recall_fscore_support(y_true=all_labels, y_pred=all_predictions)  # noqa\n",
    "    score_table = wandb.Table(columns=[\"class\", \"precision\", \"recall\", \"f1\"])\n",
    "    for i in range(10):\n",
    "        score_table.add_data(str(i), precision[i], recall[i], f1[i])\n",
    "    wandb.log({\"score_table\": score_table})\n",
    "    plot_scores(precision, recall, f1)\n",
    "\n",
    "    precision, recall, f1, _ = precision_recall_fscore_support(\n",
    "        y_true=all_labels,\n",
    "        y_pred=all_predictions,\n",
    "        average='weighted',\n",
    "    )\n",
    "    print(f\"Weighted Precision: {precision:.3f}, Recall: {recall:.3f}, F1: {f1:.3f}\")\n",
    "    wandb.log({'weighted_precision': precision, 'weighted_recall': recall, 'weighted_f1': f1})\n",
    "\n",
    "    # Save the model in the exchangeable ONNX format\n",
    "    x, _ = next(iter(test_loader))\n",
    "    torch.onnx.export(model, x.to(DEVICE) , 'model.onnx')\n",
    "    wandb.save('model.onnx')\n",
    "\n",
    "\n",
    "def model_pipeline(config: dict) -> nn.Module:\n",
    "    \"\"\"Builds the model and runs it.\"\"\"\n",
    "    # tell wandb to get started\n",
    "    project = config.pop('project'); assert project\n",
    "    tags = config.pop('tags', None)\n",
    "    notes = config.pop('notes', None)\n",
    "    with wandb.init(project=project, config=config, tags=tags, notes=notes):\n",
    "        config = wandb.config\n",
    "        # make the model, data, and optimization problem\n",
    "        model, train_loader, validation_loader, test_loader, criterion, optimizer_creator, \\\n",
    "            learning_rates = make(config)\n",
    "        print(model)\n",
    "        # and use them to train the model\n",
    "        train(\n",
    "            model, train_loader, validation_loader, criterion, optimizer_creator,\n",
    "            learning_rates, config,\n",
    "        )\n",
    "        # and test its final performance\n",
    "        test(model, test_loader, criterion)\n",
    "\n",
    "    return model"
   ]
  },
  {
   "cell_type": "code",
   "execution_count": 6,
   "metadata": {},
   "outputs": [
    {
     "data": {
      "text/html": [
       "Tracking run with wandb version 0.16.1"
      ],
      "text/plain": [
       "<IPython.core.display.HTML object>"
      ]
     },
     "metadata": {},
     "output_type": "display_data"
    },
    {
     "data": {
      "text/html": [
       "Run data is saved locally in <code>/code/source/notebooks/wandb/run-20231229_191657-2937kkm6</code>"
      ],
      "text/plain": [
       "<IPython.core.display.HTML object>"
      ]
     },
     "metadata": {},
     "output_type": "display_data"
    },
    {
     "data": {
      "text/html": [
       "Syncing run <strong><a href='https://wandb.ai/shane-kercheval/pytorch-demo/runs/2937kkm6' target=\"_blank\">different-cherry-26</a></strong> to <a href='https://wandb.ai/shane-kercheval/pytorch-demo' target=\"_blank\">Weights & Biases</a> (<a href='https://wandb.me/run' target=\"_blank\">docs</a>)<br/>"
      ],
      "text/plain": [
       "<IPython.core.display.HTML object>"
      ]
     },
     "metadata": {},
     "output_type": "display_data"
    },
    {
     "data": {
      "text/html": [
       " View project at <a href='https://wandb.ai/shane-kercheval/pytorch-demo' target=\"_blank\">https://wandb.ai/shane-kercheval/pytorch-demo</a>"
      ],
      "text/plain": [
       "<IPython.core.display.HTML object>"
      ]
     },
     "metadata": {},
     "output_type": "display_data"
    },
    {
     "data": {
      "text/html": [
       " View run at <a href='https://wandb.ai/shane-kercheval/pytorch-demo/runs/2937kkm6' target=\"_blank\">https://wandb.ai/shane-kercheval/pytorch-demo/runs/2937kkm6</a>"
      ],
      "text/plain": [
       "<IPython.core.display.HTML object>"
      ]
     },
     "metadata": {},
     "output_type": "display_data"
    },
    {
     "name": "stdout",
     "output_type": "stream",
     "text": [
      "ConvNet(\n",
      "  (layer1): Sequential(\n",
      "    (0): Conv2d(1, 16, kernel_size=(5, 5), stride=(1, 1), padding=(2, 2))\n",
      "    (1): ReLU()\n",
      "    (2): MaxPool2d(kernel_size=2, stride=2, padding=0, dilation=1, ceil_mode=False)\n",
      "  )\n",
      "  (layer2): Sequential(\n",
      "    (0): Conv2d(16, 32, kernel_size=(5, 5), stride=(1, 1), padding=(2, 2))\n",
      "    (1): ReLU()\n",
      "    (2): MaxPool2d(kernel_size=2, stride=2, padding=0, dilation=1, ceil_mode=False)\n",
      "  )\n",
      "  (fc): Linear(in_features=1568, out_features=10, bias=True)\n",
      ")\n"
     ]
    },
    {
     "name": "stderr",
     "output_type": "stream",
     "text": [
      "  0%|          | 0/20 [00:00<?, ?it/s]"
     ]
    },
    {
     "name": "stdout",
     "output_type": "stream",
     "text": [
      "Epoch 0 - learning rate: 0.005\n",
      "Training/Validation Loss after 00064 examples:  24.292 | 91.698\n",
      "Training/Validation Loss after 01920 examples:  7.539 | 1.284\n",
      "Training/Validation Loss after 03776 examples:  1.003 | 0.789\n",
      "Training/Validation Loss after 05632 examples:  0.732 | 0.620\n",
      "Training/Validation Loss after 07488 examples:  0.586 | 0.560\n",
      "Training/Validation Loss after 09344 examples:  0.529 | 0.432\n",
      "Training/Validation Loss after 11200 examples:  0.430 | 0.457\n",
      "Training/Validation Loss after 13056 examples:  0.408 | 0.329\n",
      "Training/Validation Loss after 14912 examples:  0.370 | 0.398\n",
      "Training/Validation Loss after 16768 examples:  0.334 | 0.283\n",
      "Training/Validation Loss after 18624 examples:  0.329 | 0.331\n",
      "Training/Validation Loss after 20480 examples:  0.294 | 0.280\n",
      "Training/Validation Loss after 22336 examples:  0.263 | 0.342\n",
      "Training/Validation Loss after 24192 examples:  0.309 | 0.290\n",
      "Training/Validation Loss after 26048 examples:  0.298 | 0.243\n",
      "Training/Validation Loss after 27904 examples:  0.278 | 0.237\n",
      "Training/Validation Loss after 29760 examples:  0.278 | 0.288\n",
      "Training/Validation Loss after 31616 examples:  0.242 | 0.220\n",
      "Training/Validation Loss after 33472 examples:  0.243 | 0.240\n",
      "Training/Validation Loss after 35328 examples:  0.228 | 0.236\n",
      "Training/Validation Loss after 37184 examples:  0.242 | 0.223\n",
      "Training/Validation Loss after 39040 examples:  0.266 | 0.297\n",
      "Training/Validation Loss after 40896 examples:  0.259 | 0.217\n",
      "Training/Validation Loss after 42752 examples:  0.255 | 0.203\n",
      "Training/Validation Loss after 44608 examples:  0.246 | 0.237\n",
      "Training/Validation Loss after 46464 examples:  0.254 | 0.229\n",
      "Training/Validation Loss after 48320 examples:  0.201 | 0.199\n",
      "Training/Validation Loss after 50176 examples:  0.201 | 0.251\n",
      "Training/Validation Loss after 52032 examples:  0.251 | 0.229\n",
      "Training/Validation Loss after 53888 examples:  0.274 | 0.210\n"
     ]
    },
    {
     "name": "stderr",
     "output_type": "stream",
     "text": [
      "2023-12-29 19:17:10 - INFO     | Validation loss decreased (inf --> 0.233049). Caching model state.\n",
      "  5%|▌         | 1/20 [00:11<03:32, 11.19s/it]"
     ]
    },
    {
     "name": "stdout",
     "output_type": "stream",
     "text": [
      "Training/Validation Loss after 55744 examples:  0.249 | 0.233\n",
      "Epoch 1 - learning rate: 0.005\n",
      "Training/Validation Loss after 56064 examples:  0.238 | 0.193\n",
      "Training/Validation Loss after 57920 examples:  0.212 | 0.234\n",
      "Training/Validation Loss after 59776 examples:  0.247 | 0.257\n",
      "Training/Validation Loss after 61632 examples:  0.195 | 0.220\n",
      "Training/Validation Loss after 63488 examples:  0.196 | 0.233\n",
      "Training/Validation Loss after 65344 examples:  0.203 | 0.259\n",
      "Training/Validation Loss after 67200 examples:  0.171 | 0.232\n",
      "Training/Validation Loss after 69056 examples:  0.194 | 0.220\n",
      "Training/Validation Loss after 70912 examples:  0.218 | 0.216\n",
      "Training/Validation Loss after 72768 examples:  0.224 | 0.199\n",
      "Training/Validation Loss after 74624 examples:  0.202 | 0.221\n",
      "Training/Validation Loss after 76480 examples:  0.194 | 0.201\n",
      "Training/Validation Loss after 78336 examples:  0.221 | 0.226\n",
      "Training/Validation Loss after 80192 examples:  0.224 | 0.241\n",
      "Training/Validation Loss after 82048 examples:  0.237 | 0.225\n",
      "Training/Validation Loss after 83904 examples:  0.225 | 0.242\n",
      "Training/Validation Loss after 85760 examples:  0.233 | 0.205\n",
      "Training/Validation Loss after 87616 examples:  0.199 | 0.203\n",
      "Training/Validation Loss after 89472 examples:  0.206 | 0.239\n",
      "Training/Validation Loss after 91328 examples:  0.236 | 0.250\n",
      "Training/Validation Loss after 93184 examples:  0.192 | 0.201\n",
      "Training/Validation Loss after 95040 examples:  0.184 | 0.203\n",
      "Training/Validation Loss after 96896 examples:  0.204 | 0.239\n",
      "Training/Validation Loss after 98752 examples:  0.237 | 0.192\n",
      "Training/Validation Loss after 100608 examples:  0.198 | 0.193\n",
      "Training/Validation Loss after 102464 examples:  0.223 | 0.254\n",
      "Training/Validation Loss after 104320 examples:  0.231 | 0.197\n",
      "Training/Validation Loss after 106176 examples:  0.181 | 0.192\n",
      "Training/Validation Loss after 108032 examples:  0.218 | 0.207\n",
      "Training/Validation Loss after 109888 examples:  0.231 | 0.279\n"
     ]
    },
    {
     "name": "stderr",
     "output_type": "stream",
     "text": [
      "2023-12-29 19:17:20 - INFO     | Validation loss decreased (0.233049 --> 0.212299). Caching model state.\n",
      " 10%|█         | 2/20 [00:21<03:16, 10.94s/it]"
     ]
    },
    {
     "name": "stdout",
     "output_type": "stream",
     "text": [
      "Training/Validation Loss after 111744 examples:  0.220 | 0.212\n",
      "Epoch 2 - learning rate: 0.005\n",
      "Training/Validation Loss after 112064 examples:  0.146 | 0.197\n",
      "Training/Validation Loss after 113920 examples:  0.204 | 0.196\n",
      "Training/Validation Loss after 115776 examples:  0.180 | 0.188\n",
      "Training/Validation Loss after 117632 examples:  0.190 | 0.234\n",
      "Training/Validation Loss after 119488 examples:  0.178 | 0.194\n",
      "Training/Validation Loss after 121344 examples:  0.161 | 0.184\n",
      "Training/Validation Loss after 123200 examples:  0.176 | 0.203\n",
      "Training/Validation Loss after 125056 examples:  0.240 | 0.184\n",
      "Training/Validation Loss after 126912 examples:  0.194 | 0.211\n",
      "Training/Validation Loss after 128768 examples:  0.214 | 0.191\n",
      "Training/Validation Loss after 130624 examples:  0.189 | 0.209\n",
      "Training/Validation Loss after 132480 examples:  0.222 | 0.260\n",
      "Training/Validation Loss after 134336 examples:  0.212 | 0.263\n",
      "Training/Validation Loss after 136192 examples:  0.217 | 0.235\n",
      "Training/Validation Loss after 138048 examples:  0.186 | 0.198\n",
      "Training/Validation Loss after 139904 examples:  0.209 | 0.183\n",
      "Training/Validation Loss after 141760 examples:  0.175 | 0.225\n",
      "Training/Validation Loss after 143616 examples:  0.213 | 0.266\n",
      "Training/Validation Loss after 145472 examples:  0.194 | 0.224\n",
      "Training/Validation Loss after 147328 examples:  0.241 | 0.192\n",
      "Training/Validation Loss after 149184 examples:  0.237 | 0.215\n",
      "Training/Validation Loss after 151040 examples:  0.158 | 0.196\n",
      "Training/Validation Loss after 152896 examples:  0.206 | 0.201\n",
      "Training/Validation Loss after 154752 examples:  0.191 | 0.261\n",
      "Training/Validation Loss after 156608 examples:  0.190 | 0.237\n",
      "Training/Validation Loss after 158464 examples:  0.161 | 0.216\n",
      "Training/Validation Loss after 160320 examples:  0.182 | 0.161\n",
      "Training/Validation Loss after 162176 examples:  0.236 | 0.170\n",
      "Training/Validation Loss after 164032 examples:  0.195 | 0.201\n",
      "Training/Validation Loss after 165888 examples:  0.190 | 0.198\n"
     ]
    },
    {
     "name": "stderr",
     "output_type": "stream",
     "text": [
      "2023-12-29 19:17:31 - INFO     | Early Stopping counter: 1 out of 3\n",
      " 15%|█▌        | 3/20 [00:32<03:04, 10.86s/it]"
     ]
    },
    {
     "name": "stdout",
     "output_type": "stream",
     "text": [
      "Training/Validation Loss after 167744 examples:  0.183 | 0.209\n",
      "Epoch 3 - learning rate: 0.005\n",
      "Training/Validation Loss after 168064 examples:  0.089 | 0.219\n",
      "Training/Validation Loss after 169920 examples:  0.184 | 0.202\n",
      "Training/Validation Loss after 171776 examples:  0.169 | 0.180\n",
      "Training/Validation Loss after 173632 examples:  0.166 | 0.196\n",
      "Training/Validation Loss after 175488 examples:  0.177 | 0.234\n",
      "Training/Validation Loss after 177344 examples:  0.231 | 0.232\n",
      "Training/Validation Loss after 179200 examples:  0.234 | 0.215\n",
      "Training/Validation Loss after 181056 examples:  0.199 | 0.225\n",
      "Training/Validation Loss after 182912 examples:  0.170 | 0.186\n",
      "Training/Validation Loss after 184768 examples:  0.164 | 0.212\n",
      "Training/Validation Loss after 186624 examples:  0.178 | 0.214\n",
      "Training/Validation Loss after 188480 examples:  0.217 | 0.209\n",
      "Training/Validation Loss after 190336 examples:  0.196 | 0.208\n",
      "Training/Validation Loss after 192192 examples:  0.180 | 0.192\n",
      "Training/Validation Loss after 194048 examples:  0.168 | 0.192\n",
      "Training/Validation Loss after 195904 examples:  0.194 | 0.200\n",
      "Training/Validation Loss after 197760 examples:  0.169 | 0.188\n",
      "Training/Validation Loss after 199616 examples:  0.157 | 0.157\n",
      "Training/Validation Loss after 201472 examples:  0.178 | 0.160\n",
      "Training/Validation Loss after 203328 examples:  0.157 | 0.161\n",
      "Training/Validation Loss after 205184 examples:  0.188 | 0.179\n",
      "Training/Validation Loss after 207040 examples:  0.173 | 0.168\n",
      "Training/Validation Loss after 208896 examples:  0.238 | 0.220\n",
      "Training/Validation Loss after 210752 examples:  0.201 | 0.155\n",
      "Training/Validation Loss after 212608 examples:  0.148 | 0.217\n",
      "Training/Validation Loss after 214464 examples:  0.185 | 0.178\n",
      "Training/Validation Loss after 216320 examples:  0.200 | 0.160\n",
      "Training/Validation Loss after 218176 examples:  0.175 | 0.183\n",
      "Training/Validation Loss after 220032 examples:  0.227 | 0.193\n",
      "Training/Validation Loss after 221888 examples:  0.185 | 0.231\n"
     ]
    },
    {
     "name": "stderr",
     "output_type": "stream",
     "text": [
      "2023-12-29 19:17:42 - INFO     | Validation loss decreased (0.212299 --> 0.169809). Caching model state.\n",
      " 20%|██        | 4/20 [00:43<02:52, 10.78s/it]"
     ]
    },
    {
     "name": "stdout",
     "output_type": "stream",
     "text": [
      "Training/Validation Loss after 223744 examples:  0.191 | 0.170\n",
      "Epoch 4 - learning rate: 0.005\n",
      "Training/Validation Loss after 224064 examples:  0.609 | 0.193\n",
      "Training/Validation Loss after 225920 examples:  0.162 | 0.174\n",
      "Training/Validation Loss after 227776 examples:  0.147 | 0.186\n",
      "Training/Validation Loss after 229632 examples:  0.171 | 0.165\n",
      "Training/Validation Loss after 231488 examples:  0.220 | 0.197\n",
      "Training/Validation Loss after 233344 examples:  0.172 | 0.186\n",
      "Training/Validation Loss after 235200 examples:  0.162 | 0.223\n",
      "Training/Validation Loss after 237056 examples:  0.174 | 0.173\n",
      "Training/Validation Loss after 238912 examples:  0.201 | 0.194\n",
      "Training/Validation Loss after 240768 examples:  0.158 | 0.156\n",
      "Training/Validation Loss after 242624 examples:  0.170 | 0.214\n",
      "Training/Validation Loss after 244480 examples:  0.173 | 0.162\n",
      "Training/Validation Loss after 246336 examples:  0.135 | 0.170\n",
      "Training/Validation Loss after 248192 examples:  0.178 | 0.185\n",
      "Training/Validation Loss after 250048 examples:  0.214 | 0.209\n",
      "Training/Validation Loss after 251904 examples:  0.195 | 0.190\n",
      "Training/Validation Loss after 253760 examples:  0.165 | 0.173\n",
      "Training/Validation Loss after 255616 examples:  0.132 | 0.162\n",
      "Training/Validation Loss after 257472 examples:  0.162 | 0.171\n",
      "Training/Validation Loss after 259328 examples:  0.145 | 0.185\n",
      "Training/Validation Loss after 261184 examples:  0.129 | 0.177\n",
      "Training/Validation Loss after 263040 examples:  0.145 | 0.157\n",
      "Training/Validation Loss after 264896 examples:  0.195 | 0.191\n",
      "Training/Validation Loss after 266752 examples:  0.143 | 0.179\n",
      "Training/Validation Loss after 268608 examples:  0.139 | 0.188\n",
      "Training/Validation Loss after 270464 examples:  0.176 | 0.165\n",
      "Training/Validation Loss after 272320 examples:  0.189 | 0.142\n",
      "Training/Validation Loss after 274176 examples:  0.157 | 0.170\n",
      "Training/Validation Loss after 276032 examples:  0.209 | 0.152\n",
      "Training/Validation Loss after 277888 examples:  0.157 | 0.143\n"
     ]
    },
    {
     "name": "stderr",
     "output_type": "stream",
     "text": [
      "2023-12-29 19:17:53 - INFO     | Early Stopping counter: 1 out of 3\n",
      " 25%|██▌       | 5/20 [00:54<02:42, 10.86s/it]"
     ]
    },
    {
     "name": "stdout",
     "output_type": "stream",
     "text": [
      "Training/Validation Loss after 279744 examples:  0.149 | 0.162\n",
      "Epoch 5 - learning rate: 0.005\n",
      "Training/Validation Loss after 280064 examples:  0.220 | 0.175\n",
      "Training/Validation Loss after 281920 examples:  0.150 | 0.144\n",
      "Training/Validation Loss after 283776 examples:  0.125 | 0.143\n",
      "Training/Validation Loss after 285632 examples:  0.138 | 0.142\n",
      "Training/Validation Loss after 287488 examples:  0.136 | 0.170\n",
      "Training/Validation Loss after 289344 examples:  0.176 | 0.160\n",
      "Training/Validation Loss after 291200 examples:  0.145 | 0.162\n",
      "Training/Validation Loss after 293056 examples:  0.158 | 0.167\n",
      "Training/Validation Loss after 294912 examples:  0.138 | 0.150\n",
      "Training/Validation Loss after 296768 examples:  0.169 | 0.168\n",
      "Training/Validation Loss after 298624 examples:  0.160 | 0.170\n",
      "Training/Validation Loss after 300480 examples:  0.177 | 0.157\n",
      "Training/Validation Loss after 302336 examples:  0.148 | 0.181\n",
      "Training/Validation Loss after 304192 examples:  0.184 | 0.146\n",
      "Training/Validation Loss after 306048 examples:  0.154 | 0.148\n",
      "Training/Validation Loss after 307904 examples:  0.141 | 0.161\n",
      "Training/Validation Loss after 309760 examples:  0.171 | 0.156\n",
      "Training/Validation Loss after 311616 examples:  0.133 | 0.148\n",
      "Training/Validation Loss after 313472 examples:  0.179 | 0.170\n",
      "Training/Validation Loss after 315328 examples:  0.180 | 0.155\n",
      "Training/Validation Loss after 317184 examples:  0.187 | 0.192\n",
      "Training/Validation Loss after 319040 examples:  0.141 | 0.145\n",
      "Training/Validation Loss after 320896 examples:  0.169 | 0.149\n",
      "Training/Validation Loss after 322752 examples:  0.121 | 0.133\n",
      "Training/Validation Loss after 324608 examples:  0.140 | 0.172\n",
      "Training/Validation Loss after 326464 examples:  0.193 | 0.161\n",
      "Training/Validation Loss after 328320 examples:  0.149 | 0.152\n",
      "Training/Validation Loss after 330176 examples:  0.174 | 0.182\n",
      "Training/Validation Loss after 332032 examples:  0.200 | 0.149\n",
      "Training/Validation Loss after 333888 examples:  0.154 | 0.148\n"
     ]
    },
    {
     "name": "stderr",
     "output_type": "stream",
     "text": [
      "2023-12-29 19:18:04 - INFO     | Validation loss decreased (0.169809 --> 0.147711). Caching model state.\n",
      " 30%|███       | 6/20 [01:05<02:31, 10.81s/it]"
     ]
    },
    {
     "name": "stdout",
     "output_type": "stream",
     "text": [
      "Training/Validation Loss after 335744 examples:  0.150 | 0.148\n",
      "Epoch 6 - learning rate: 0.005\n",
      "Training/Validation Loss after 336064 examples:  0.063 | 0.126\n",
      "Training/Validation Loss after 337920 examples:  0.140 | 0.140\n",
      "Training/Validation Loss after 339776 examples:  0.107 | 0.130\n",
      "Training/Validation Loss after 341632 examples:  0.143 | 0.155\n",
      "Training/Validation Loss after 343488 examples:  0.165 | 0.162\n",
      "Training/Validation Loss after 345344 examples:  0.137 | 0.154\n",
      "Training/Validation Loss after 347200 examples:  0.120 | 0.146\n",
      "Training/Validation Loss after 349056 examples:  0.150 | 0.209\n",
      "Training/Validation Loss after 350912 examples:  0.169 | 0.190\n",
      "Training/Validation Loss after 352768 examples:  0.158 | 0.151\n",
      "Training/Validation Loss after 354624 examples:  0.149 | 0.151\n",
      "Training/Validation Loss after 356480 examples:  0.146 | 0.130\n",
      "Training/Validation Loss after 358336 examples:  0.165 | 0.159\n",
      "Training/Validation Loss after 360192 examples:  0.152 | 0.166\n",
      "Training/Validation Loss after 362048 examples:  0.143 | 0.157\n",
      "Training/Validation Loss after 363904 examples:  0.141 | 0.163\n",
      "Training/Validation Loss after 365760 examples:  0.170 | 0.163\n",
      "Training/Validation Loss after 367616 examples:  0.161 | 0.133\n",
      "Training/Validation Loss after 369472 examples:  0.153 | 0.160\n",
      "Training/Validation Loss after 371328 examples:  0.152 | 0.147\n",
      "Training/Validation Loss after 373184 examples:  0.114 | 0.125\n",
      "Training/Validation Loss after 375040 examples:  0.141 | 0.118\n",
      "Training/Validation Loss after 376896 examples:  0.110 | 0.145\n",
      "Training/Validation Loss after 378752 examples:  0.102 | 0.130\n",
      "Training/Validation Loss after 380608 examples:  0.156 | 0.149\n",
      "Training/Validation Loss after 382464 examples:  0.130 | 0.135\n",
      "Training/Validation Loss after 384320 examples:  0.143 | 0.163\n",
      "Training/Validation Loss after 386176 examples:  0.158 | 0.122\n",
      "Training/Validation Loss after 388032 examples:  0.139 | 0.158\n",
      "Training/Validation Loss after 389888 examples:  0.144 | 0.171\n"
     ]
    },
    {
     "name": "stderr",
     "output_type": "stream",
     "text": [
      "2023-12-29 19:18:14 - INFO     | Early Stopping counter: 1 out of 3\n",
      " 35%|███▌      | 7/20 [01:15<02:19, 10.77s/it]"
     ]
    },
    {
     "name": "stdout",
     "output_type": "stream",
     "text": [
      "Training/Validation Loss after 391744 examples:  0.128 | 0.166\n",
      "Epoch 7 - learning rate: 0.005\n",
      "Training/Validation Loss after 392064 examples:  0.121 | 0.162\n",
      "Training/Validation Loss after 393920 examples:  0.117 | 0.137\n",
      "Training/Validation Loss after 395776 examples:  0.141 | 0.230\n",
      "Training/Validation Loss after 397632 examples:  0.142 | 0.213\n",
      "Training/Validation Loss after 399488 examples:  0.144 | 0.161\n",
      "Training/Validation Loss after 401344 examples:  0.149 | 0.158\n",
      "Training/Validation Loss after 403200 examples:  0.165 | 0.154\n",
      "Training/Validation Loss after 405056 examples:  0.167 | 0.162\n",
      "Training/Validation Loss after 406912 examples:  0.165 | 0.163\n",
      "Training/Validation Loss after 408768 examples:  0.141 | 0.146\n",
      "Training/Validation Loss after 410624 examples:  0.177 | 0.139\n",
      "Training/Validation Loss after 412480 examples:  0.112 | 0.160\n",
      "Training/Validation Loss after 414336 examples:  0.165 | 0.140\n",
      "Training/Validation Loss after 416192 examples:  0.130 | 0.148\n",
      "Training/Validation Loss after 418048 examples:  0.123 | 0.144\n",
      "Training/Validation Loss after 419904 examples:  0.148 | 0.110\n",
      "Training/Validation Loss after 421760 examples:  0.115 | 0.132\n",
      "Training/Validation Loss after 423616 examples:  0.138 | 0.144\n",
      "Training/Validation Loss after 425472 examples:  0.140 | 0.142\n",
      "Training/Validation Loss after 427328 examples:  0.140 | 0.159\n",
      "Training/Validation Loss after 429184 examples:  0.137 | 0.145\n",
      "Training/Validation Loss after 431040 examples:  0.129 | 0.135\n",
      "Training/Validation Loss after 432896 examples:  0.136 | 0.130\n",
      "Training/Validation Loss after 434752 examples:  0.134 | 0.131\n",
      "Training/Validation Loss after 436608 examples:  0.120 | 0.115\n",
      "Training/Validation Loss after 438464 examples:  0.131 | 0.142\n",
      "Training/Validation Loss after 440320 examples:  0.134 | 0.139\n",
      "Training/Validation Loss after 442176 examples:  0.141 | 0.124\n",
      "Training/Validation Loss after 444032 examples:  0.121 | 0.109\n",
      "Training/Validation Loss after 445888 examples:  0.129 | 0.124\n"
     ]
    },
    {
     "name": "stderr",
     "output_type": "stream",
     "text": [
      "2023-12-29 19:18:25 - INFO     | Validation loss decreased (0.147711 --> 0.137572). Caching model state.\n",
      " 40%|████      | 8/20 [01:26<02:08, 10.70s/it]"
     ]
    },
    {
     "name": "stdout",
     "output_type": "stream",
     "text": [
      "Training/Validation Loss after 447744 examples:  0.145 | 0.138\n",
      "Epoch 8 - learning rate: 0.005\n",
      "Training/Validation Loss after 448064 examples:  0.220 | 0.127\n",
      "Training/Validation Loss after 449920 examples:  0.101 | 0.111\n",
      "Training/Validation Loss after 451776 examples:  0.123 | 0.122\n",
      "Training/Validation Loss after 453632 examples:  0.128 | 0.122\n",
      "Training/Validation Loss after 455488 examples:  0.126 | 0.157\n",
      "Training/Validation Loss after 457344 examples:  0.177 | 0.145\n",
      "Training/Validation Loss after 459200 examples:  0.176 | 0.140\n",
      "Training/Validation Loss after 461056 examples:  0.146 | 0.149\n",
      "Training/Validation Loss after 462912 examples:  0.145 | 0.141\n",
      "Training/Validation Loss after 464768 examples:  0.144 | 0.134\n",
      "Training/Validation Loss after 466624 examples:  0.113 | 0.151\n",
      "Training/Validation Loss after 468480 examples:  0.175 | 0.123\n",
      "Training/Validation Loss after 470336 examples:  0.116 | 0.136\n",
      "Training/Validation Loss after 472192 examples:  0.121 | 0.130\n",
      "Training/Validation Loss after 474048 examples:  0.155 | 0.205\n",
      "Training/Validation Loss after 475904 examples:  0.191 | 0.181\n",
      "Training/Validation Loss after 477760 examples:  0.141 | 0.150\n",
      "Training/Validation Loss after 479616 examples:  0.171 | 0.154\n",
      "Training/Validation Loss after 481472 examples:  0.147 | 0.149\n",
      "Training/Validation Loss after 483328 examples:  0.124 | 0.132\n",
      "Training/Validation Loss after 485184 examples:  0.121 | 0.135\n",
      "Training/Validation Loss after 487040 examples:  0.109 | 0.213\n",
      "Training/Validation Loss after 488896 examples:  0.184 | 0.170\n",
      "Training/Validation Loss after 490752 examples:  0.160 | 0.137\n",
      "Training/Validation Loss after 492608 examples:  0.130 | 0.136\n",
      "Training/Validation Loss after 494464 examples:  0.143 | 0.156\n",
      "Training/Validation Loss after 496320 examples:  0.129 | 0.149\n",
      "Training/Validation Loss after 498176 examples:  0.129 | 0.143\n",
      "Training/Validation Loss after 500032 examples:  0.157 | 0.139\n",
      "Training/Validation Loss after 501888 examples:  0.121 | 0.116\n"
     ]
    },
    {
     "name": "stderr",
     "output_type": "stream",
     "text": [
      "2023-12-29 19:18:35 - INFO     | Validation loss decreased (0.137572 --> 0.128029). Caching model state.\n",
      " 45%|████▌     | 9/20 [01:36<01:57, 10.69s/it]"
     ]
    },
    {
     "name": "stdout",
     "output_type": "stream",
     "text": [
      "Training/Validation Loss after 503744 examples:  0.140 | 0.128\n",
      "Epoch 9 - learning rate: 0.005\n",
      "Training/Validation Loss after 504064 examples:  0.227 | 0.117\n",
      "Training/Validation Loss after 505920 examples:  0.084 | 0.127\n",
      "Training/Validation Loss after 507776 examples:  0.100 | 0.124\n",
      "Training/Validation Loss after 509632 examples:  0.128 | 0.132\n",
      "Training/Validation Loss after 511488 examples:  0.127 | 0.144\n",
      "Training/Validation Loss after 513344 examples:  0.141 | 0.144\n",
      "Training/Validation Loss after 515200 examples:  0.132 | 0.137\n",
      "Training/Validation Loss after 517056 examples:  0.175 | 0.137\n",
      "Training/Validation Loss after 518912 examples:  0.130 | 0.147\n",
      "Training/Validation Loss after 520768 examples:  0.159 | 0.155\n",
      "Training/Validation Loss after 522624 examples:  0.157 | 0.130\n",
      "Training/Validation Loss after 524480 examples:  0.101 | 0.137\n",
      "Training/Validation Loss after 526336 examples:  0.138 | 0.145\n",
      "Training/Validation Loss after 528192 examples:  0.166 | 0.132\n",
      "Training/Validation Loss after 530048 examples:  0.102 | 0.120\n",
      "Training/Validation Loss after 531904 examples:  0.128 | 0.119\n",
      "Training/Validation Loss after 533760 examples:  0.146 | 0.157\n",
      "Training/Validation Loss after 535616 examples:  0.130 | 0.139\n",
      "Training/Validation Loss after 537472 examples:  0.137 | 0.140\n",
      "Training/Validation Loss after 539328 examples:  0.151 | 0.185\n",
      "Training/Validation Loss after 541184 examples:  0.140 | 0.158\n",
      "Training/Validation Loss after 543040 examples:  0.123 | 0.150\n",
      "Training/Validation Loss after 544896 examples:  0.139 | 0.137\n",
      "Training/Validation Loss after 546752 examples:  0.116 | 0.120\n",
      "Training/Validation Loss after 548608 examples:  0.139 | 0.127\n",
      "Training/Validation Loss after 550464 examples:  0.105 | 0.119\n",
      "Training/Validation Loss after 552320 examples:  0.110 | 0.114\n",
      "Training/Validation Loss after 554176 examples:  0.125 | 0.135\n",
      "Training/Validation Loss after 556032 examples:  0.128 | 0.141\n",
      "Training/Validation Loss after 557888 examples:  0.102 | 0.153\n"
     ]
    },
    {
     "name": "stderr",
     "output_type": "stream",
     "text": [
      "2023-12-29 19:18:46 - INFO     | Early Stopping counter: 1 out of 3\n",
      " 50%|█████     | 10/20 [01:47<01:47, 10.75s/it]"
     ]
    },
    {
     "name": "stdout",
     "output_type": "stream",
     "text": [
      "Training/Validation Loss after 559744 examples:  0.113 | 0.132\n",
      "Epoch 10 - learning rate: 0.005\n",
      "Training/Validation Loss after 560064 examples:  0.081 | 0.136\n",
      "Training/Validation Loss after 561920 examples:  0.130 | 0.122\n",
      "Training/Validation Loss after 563776 examples:  0.116 | 0.150\n",
      "Training/Validation Loss after 565632 examples:  0.125 | 0.133\n",
      "Training/Validation Loss after 567488 examples:  0.161 | 0.143\n",
      "Training/Validation Loss after 569344 examples:  0.098 | 0.123\n",
      "Training/Validation Loss after 571200 examples:  0.109 | 0.141\n",
      "Training/Validation Loss after 573056 examples:  0.167 | 0.133\n",
      "Training/Validation Loss after 574912 examples:  0.096 | 0.118\n",
      "Training/Validation Loss after 576768 examples:  0.144 | 0.137\n",
      "Training/Validation Loss after 578624 examples:  0.111 | 0.146\n",
      "Training/Validation Loss after 580480 examples:  0.168 | 0.128\n",
      "Training/Validation Loss after 582336 examples:  0.099 | 0.128\n",
      "Training/Validation Loss after 584192 examples:  0.109 | 0.127\n",
      "Training/Validation Loss after 586048 examples:  0.153 | 0.133\n",
      "Training/Validation Loss after 587904 examples:  0.125 | 0.147\n",
      "Training/Validation Loss after 589760 examples:  0.129 | 0.133\n",
      "Training/Validation Loss after 591616 examples:  0.150 | 0.155\n",
      "Training/Validation Loss after 593472 examples:  0.120 | 0.135\n",
      "Training/Validation Loss after 595328 examples:  0.124 | 0.131\n",
      "Training/Validation Loss after 597184 examples:  0.128 | 0.171\n",
      "Training/Validation Loss after 599040 examples:  0.189 | 0.157\n",
      "Training/Validation Loss after 600896 examples:  0.148 | 0.150\n",
      "Training/Validation Loss after 602752 examples:  0.196 | 0.220\n",
      "Training/Validation Loss after 604608 examples:  0.147 | 0.137\n",
      "Training/Validation Loss after 606464 examples:  0.133 | 0.142\n",
      "Training/Validation Loss after 608320 examples:  0.140 | 0.147\n",
      "Training/Validation Loss after 610176 examples:  0.136 | 0.155\n",
      "Training/Validation Loss after 612032 examples:  0.127 | 0.138\n",
      "Training/Validation Loss after 613888 examples:  0.129 | 0.138\n"
     ]
    },
    {
     "name": "stderr",
     "output_type": "stream",
     "text": [
      "2023-12-29 19:18:57 - INFO     | Early Stopping counter: 2 out of 3\n",
      " 55%|█████▌    | 11/20 [01:58<01:37, 10.79s/it]"
     ]
    },
    {
     "name": "stdout",
     "output_type": "stream",
     "text": [
      "Training/Validation Loss after 615744 examples:  0.156 | 0.159\n",
      "Epoch 11 - learning rate: 0.005\n",
      "Training/Validation Loss after 616064 examples:  0.154 | 0.146\n",
      "Training/Validation Loss after 617920 examples:  0.121 | 0.148\n",
      "Training/Validation Loss after 619776 examples:  0.130 | 0.116\n",
      "Training/Validation Loss after 621632 examples:  0.101 | 0.122\n",
      "Training/Validation Loss after 623488 examples:  0.099 | 0.138\n",
      "Training/Validation Loss after 625344 examples:  0.137 | 0.161\n",
      "Training/Validation Loss after 627200 examples:  0.155 | 0.175\n",
      "Training/Validation Loss after 629056 examples:  0.144 | 0.173\n",
      "Training/Validation Loss after 630912 examples:  0.129 | 0.136\n",
      "Training/Validation Loss after 632768 examples:  0.132 | 0.153\n",
      "Training/Validation Loss after 634624 examples:  0.134 | 0.131\n",
      "Training/Validation Loss after 636480 examples:  0.118 | 0.120\n",
      "Training/Validation Loss after 638336 examples:  0.119 | 0.121\n",
      "Training/Validation Loss after 640192 examples:  0.082 | 0.129\n",
      "Training/Validation Loss after 642048 examples:  0.140 | 0.167\n",
      "Training/Validation Loss after 643904 examples:  0.147 | 0.129\n",
      "Training/Validation Loss after 645760 examples:  0.164 | 0.195\n",
      "Training/Validation Loss after 647616 examples:  0.159 | 0.176\n",
      "Training/Validation Loss after 649472 examples:  0.124 | 0.140\n",
      "Training/Validation Loss after 651328 examples:  0.094 | 0.152\n",
      "Training/Validation Loss after 653184 examples:  0.153 | 0.146\n",
      "Training/Validation Loss after 655040 examples:  0.136 | 0.128\n",
      "Training/Validation Loss after 656896 examples:  0.130 | 0.158\n",
      "Training/Validation Loss after 658752 examples:  0.144 | 0.143\n",
      "Training/Validation Loss after 660608 examples:  0.160 | 0.137\n",
      "Training/Validation Loss after 662464 examples:  0.098 | 0.155\n",
      "Training/Validation Loss after 664320 examples:  0.104 | 0.162\n",
      "Training/Validation Loss after 666176 examples:  0.103 | 0.137\n",
      "Training/Validation Loss after 668032 examples:  0.119 | 0.144\n",
      "Training/Validation Loss after 669888 examples:  0.193 | 0.164\n"
     ]
    },
    {
     "name": "stderr",
     "output_type": "stream",
     "text": [
      "2023-12-29 19:19:08 - INFO     | Early Stopping counter: 3 out of 3\n",
      " 60%|██████    | 12/20 [02:09<01:25, 10.72s/it]"
     ]
    },
    {
     "name": "stdout",
     "output_type": "stream",
     "text": [
      "Training/Validation Loss after 671744 examples:  0.140 | 0.170\n",
      "Early stopping\n",
      "Reducing learning rate: 0.001\n",
      "Epoch 12 - learning rate: 0.001\n",
      "Training/Validation Loss after 672064 examples:  0.088 | 0.153\n",
      "Training/Validation Loss after 673920 examples:  0.092 | 0.130\n",
      "Training/Validation Loss after 675776 examples:  0.092 | 0.117\n",
      "Training/Validation Loss after 677632 examples:  0.118 | 0.108\n",
      "Training/Validation Loss after 679488 examples:  0.099 | 0.102\n",
      "Training/Validation Loss after 681344 examples:  0.056 | 0.098\n",
      "Training/Validation Loss after 683200 examples:  0.060 | 0.103\n",
      "Training/Validation Loss after 685056 examples:  0.064 | 0.108\n",
      "Training/Validation Loss after 686912 examples:  0.094 | 0.105\n",
      "Training/Validation Loss after 688768 examples:  0.071 | 0.101\n",
      "Training/Validation Loss after 690624 examples:  0.055 | 0.101\n",
      "Training/Validation Loss after 692480 examples:  0.078 | 0.100\n",
      "Training/Validation Loss after 694336 examples:  0.066 | 0.101\n",
      "Training/Validation Loss after 696192 examples:  0.074 | 0.101\n",
      "Training/Validation Loss after 698048 examples:  0.084 | 0.099\n",
      "Training/Validation Loss after 699904 examples:  0.065 | 0.094\n",
      "Training/Validation Loss after 701760 examples:  0.073 | 0.099\n",
      "Training/Validation Loss after 703616 examples:  0.083 | 0.089\n",
      "Training/Validation Loss after 705472 examples:  0.056 | 0.092\n",
      "Training/Validation Loss after 707328 examples:  0.080 | 0.096\n",
      "Training/Validation Loss after 709184 examples:  0.051 | 0.090\n",
      "Training/Validation Loss after 711040 examples:  0.059 | 0.095\n",
      "Training/Validation Loss after 712896 examples:  0.064 | 0.096\n",
      "Training/Validation Loss after 714752 examples:  0.089 | 0.090\n",
      "Training/Validation Loss after 716608 examples:  0.078 | 0.087\n",
      "Training/Validation Loss after 718464 examples:  0.070 | 0.088\n",
      "Training/Validation Loss after 720320 examples:  0.055 | 0.080\n",
      "Training/Validation Loss after 722176 examples:  0.061 | 0.079\n",
      "Training/Validation Loss after 724032 examples:  0.071 | 0.080\n",
      "Training/Validation Loss after 725888 examples:  0.051 | 0.085\n"
     ]
    },
    {
     "name": "stderr",
     "output_type": "stream",
     "text": [
      "2023-12-29 19:19:19 - INFO     | Validation loss decreased (0.128029 --> 0.081703). Caching model state.\n",
      " 65%|██████▌   | 13/20 [02:20<01:15, 10.75s/it]"
     ]
    },
    {
     "name": "stdout",
     "output_type": "stream",
     "text": [
      "Training/Validation Loss after 727744 examples:  0.055 | 0.082\n",
      "Epoch 13 - learning rate: 0.001\n",
      "Training/Validation Loss after 728064 examples:  0.024 | 0.082\n",
      "Training/Validation Loss after 729920 examples:  0.047 | 0.083\n",
      "Training/Validation Loss after 731776 examples:  0.046 | 0.085\n",
      "Training/Validation Loss after 733632 examples:  0.065 | 0.084\n",
      "Training/Validation Loss after 735488 examples:  0.053 | 0.083\n",
      "Training/Validation Loss after 737344 examples:  0.037 | 0.080\n",
      "Training/Validation Loss after 739200 examples:  0.052 | 0.080\n",
      "Training/Validation Loss after 741056 examples:  0.049 | 0.080\n",
      "Training/Validation Loss after 742912 examples:  0.055 | 0.081\n",
      "Training/Validation Loss after 744768 examples:  0.052 | 0.079\n",
      "Training/Validation Loss after 746624 examples:  0.049 | 0.086\n",
      "Training/Validation Loss after 748480 examples:  0.036 | 0.081\n",
      "Training/Validation Loss after 750336 examples:  0.061 | 0.081\n",
      "Training/Validation Loss after 752192 examples:  0.046 | 0.081\n",
      "Training/Validation Loss after 754048 examples:  0.055 | 0.080\n",
      "Training/Validation Loss after 755904 examples:  0.035 | 0.085\n",
      "Training/Validation Loss after 757760 examples:  0.055 | 0.084\n",
      "Training/Validation Loss after 759616 examples:  0.057 | 0.087\n",
      "Training/Validation Loss after 761472 examples:  0.051 | 0.090\n",
      "Training/Validation Loss after 763328 examples:  0.037 | 0.089\n",
      "Training/Validation Loss after 765184 examples:  0.039 | 0.086\n",
      "Training/Validation Loss after 767040 examples:  0.065 | 0.089\n",
      "Training/Validation Loss after 768896 examples:  0.055 | 0.087\n",
      "Training/Validation Loss after 770752 examples:  0.050 | 0.095\n",
      "Training/Validation Loss after 772608 examples:  0.052 | 0.089\n",
      "Training/Validation Loss after 774464 examples:  0.050 | 0.091\n",
      "Training/Validation Loss after 776320 examples:  0.055 | 0.090\n",
      "Training/Validation Loss after 778176 examples:  0.060 | 0.084\n",
      "Training/Validation Loss after 780032 examples:  0.056 | 0.088\n",
      "Training/Validation Loss after 781888 examples:  0.065 | 0.082\n"
     ]
    },
    {
     "name": "stderr",
     "output_type": "stream",
     "text": [
      "2023-12-29 19:19:30 - INFO     | Early Stopping counter: 1 out of 3\n",
      " 70%|███████   | 14/20 [02:31<01:04, 10.82s/it]"
     ]
    },
    {
     "name": "stdout",
     "output_type": "stream",
     "text": [
      "Training/Validation Loss after 783744 examples:  0.065 | 0.086\n",
      "Epoch 14 - learning rate: 0.001\n",
      "Training/Validation Loss after 784064 examples:  0.015 | 0.084\n",
      "Training/Validation Loss after 785920 examples:  0.044 | 0.081\n",
      "Training/Validation Loss after 787776 examples:  0.025 | 0.087\n",
      "Training/Validation Loss after 789632 examples:  0.046 | 0.082\n",
      "Training/Validation Loss after 791488 examples:  0.044 | 0.082\n",
      "Training/Validation Loss after 793344 examples:  0.030 | 0.079\n",
      "Training/Validation Loss after 795200 examples:  0.035 | 0.081\n",
      "Training/Validation Loss after 797056 examples:  0.034 | 0.080\n",
      "Training/Validation Loss after 798912 examples:  0.031 | 0.079\n",
      "Training/Validation Loss after 800768 examples:  0.046 | 0.086\n",
      "Training/Validation Loss after 802624 examples:  0.033 | 0.081\n",
      "Training/Validation Loss after 804480 examples:  0.061 | 0.086\n",
      "Training/Validation Loss after 806336 examples:  0.055 | 0.083\n",
      "Training/Validation Loss after 808192 examples:  0.054 | 0.078\n",
      "Training/Validation Loss after 810048 examples:  0.040 | 0.082\n",
      "Training/Validation Loss after 811904 examples:  0.052 | 0.081\n",
      "Training/Validation Loss after 813760 examples:  0.044 | 0.081\n",
      "Training/Validation Loss after 815616 examples:  0.037 | 0.079\n",
      "Training/Validation Loss after 817472 examples:  0.042 | 0.081\n",
      "Training/Validation Loss after 819328 examples:  0.041 | 0.083\n",
      "Training/Validation Loss after 821184 examples:  0.041 | 0.082\n",
      "Training/Validation Loss after 823040 examples:  0.042 | 0.085\n",
      "Training/Validation Loss after 824896 examples:  0.039 | 0.083\n",
      "Training/Validation Loss after 826752 examples:  0.049 | 0.083\n",
      "Training/Validation Loss after 828608 examples:  0.050 | 0.097\n",
      "Training/Validation Loss after 830464 examples:  0.037 | 0.081\n",
      "Training/Validation Loss after 832320 examples:  0.043 | 0.084\n",
      "Training/Validation Loss after 834176 examples:  0.042 | 0.089\n",
      "Training/Validation Loss after 836032 examples:  0.062 | 0.079\n",
      "Training/Validation Loss after 837888 examples:  0.048 | 0.080\n"
     ]
    },
    {
     "name": "stderr",
     "output_type": "stream",
     "text": [
      "2023-12-29 19:19:40 - INFO     | Early Stopping counter: 2 out of 3\n",
      " 75%|███████▌  | 15/20 [02:41<00:53, 10.72s/it]"
     ]
    },
    {
     "name": "stdout",
     "output_type": "stream",
     "text": [
      "Training/Validation Loss after 839744 examples:  0.046 | 0.083\n",
      "Epoch 15 - learning rate: 0.001\n",
      "Training/Validation Loss after 840064 examples:  0.007 | 0.083\n",
      "Training/Validation Loss after 841920 examples:  0.043 | 0.084\n",
      "Training/Validation Loss after 843776 examples:  0.032 | 0.081\n",
      "Training/Validation Loss after 845632 examples:  0.018 | 0.080\n",
      "Training/Validation Loss after 847488 examples:  0.035 | 0.078\n",
      "Training/Validation Loss after 849344 examples:  0.026 | 0.085\n",
      "Training/Validation Loss after 851200 examples:  0.039 | 0.084\n",
      "Training/Validation Loss after 853056 examples:  0.030 | 0.085\n",
      "Training/Validation Loss after 854912 examples:  0.025 | 0.080\n",
      "Training/Validation Loss after 856768 examples:  0.032 | 0.079\n",
      "Training/Validation Loss after 858624 examples:  0.034 | 0.077\n",
      "Training/Validation Loss after 860480 examples:  0.020 | 0.080\n",
      "Training/Validation Loss after 862336 examples:  0.037 | 0.080\n",
      "Training/Validation Loss after 864192 examples:  0.027 | 0.085\n",
      "Training/Validation Loss after 866048 examples:  0.032 | 0.081\n",
      "Training/Validation Loss after 867904 examples:  0.042 | 0.089\n",
      "Training/Validation Loss after 869760 examples:  0.032 | 0.088\n",
      "Training/Validation Loss after 871616 examples:  0.048 | 0.086\n",
      "Training/Validation Loss after 873472 examples:  0.036 | 0.086\n",
      "Training/Validation Loss after 875328 examples:  0.034 | 0.079\n",
      "Training/Validation Loss after 877184 examples:  0.031 | 0.086\n",
      "Training/Validation Loss after 879040 examples:  0.031 | 0.090\n",
      "Training/Validation Loss after 880896 examples:  0.032 | 0.095\n",
      "Training/Validation Loss after 882752 examples:  0.053 | 0.087\n",
      "Training/Validation Loss after 884608 examples:  0.024 | 0.088\n",
      "Training/Validation Loss after 886464 examples:  0.068 | 0.084\n",
      "Training/Validation Loss after 888320 examples:  0.030 | 0.082\n",
      "Training/Validation Loss after 890176 examples:  0.040 | 0.081\n",
      "Training/Validation Loss after 892032 examples:  0.025 | 0.081\n",
      "Training/Validation Loss after 893888 examples:  0.034 | 0.082\n"
     ]
    },
    {
     "name": "stderr",
     "output_type": "stream",
     "text": [
      "2023-12-29 19:19:51 - INFO     | Early Stopping counter: 3 out of 3\n",
      " 80%|████████  | 16/20 [02:52<00:42, 10.69s/it]"
     ]
    },
    {
     "name": "stdout",
     "output_type": "stream",
     "text": [
      "Training/Validation Loss after 895744 examples:  0.036 | 0.093\n",
      "Early stopping\n",
      "Reducing learning rate: 0.0005\n",
      "Epoch 16 - learning rate: 0.0005\n",
      "Training/Validation Loss after 896064 examples:  0.126 | 0.092\n",
      "Training/Validation Loss after 897920 examples:  0.027 | 0.090\n",
      "Training/Validation Loss after 899776 examples:  0.028 | 0.083\n",
      "Training/Validation Loss after 901632 examples:  0.017 | 0.083\n",
      "Training/Validation Loss after 903488 examples:  0.013 | 0.084\n",
      "Training/Validation Loss after 905344 examples:  0.014 | 0.087\n",
      "Training/Validation Loss after 907200 examples:  0.033 | 0.088\n",
      "Training/Validation Loss after 909056 examples:  0.022 | 0.087\n",
      "Training/Validation Loss after 910912 examples:  0.017 | 0.079\n",
      "Training/Validation Loss after 912768 examples:  0.021 | 0.083\n",
      "Training/Validation Loss after 914624 examples:  0.028 | 0.085\n",
      "Training/Validation Loss after 916480 examples:  0.038 | 0.084\n",
      "Training/Validation Loss after 918336 examples:  0.025 | 0.084\n",
      "Training/Validation Loss after 920192 examples:  0.037 | 0.084\n",
      "Training/Validation Loss after 922048 examples:  0.017 | 0.084\n",
      "Training/Validation Loss after 923904 examples:  0.016 | 0.084\n",
      "Training/Validation Loss after 925760 examples:  0.031 | 0.090\n",
      "Training/Validation Loss after 927616 examples:  0.020 | 0.088\n",
      "Training/Validation Loss after 929472 examples:  0.025 | 0.083\n",
      "Training/Validation Loss after 931328 examples:  0.021 | 0.086\n",
      "Training/Validation Loss after 933184 examples:  0.025 | 0.087\n",
      "Training/Validation Loss after 935040 examples:  0.021 | 0.086\n",
      "Training/Validation Loss after 936896 examples:  0.026 | 0.082\n",
      "Training/Validation Loss after 938752 examples:  0.016 | 0.082\n",
      "Training/Validation Loss after 940608 examples:  0.022 | 0.078\n",
      "Training/Validation Loss after 942464 examples:  0.023 | 0.078\n",
      "Training/Validation Loss after 944320 examples:  0.029 | 0.080\n",
      "Training/Validation Loss after 946176 examples:  0.016 | 0.080\n",
      "Training/Validation Loss after 948032 examples:  0.023 | 0.082\n",
      "Training/Validation Loss after 949888 examples:  0.022 | 0.078\n"
     ]
    },
    {
     "name": "stderr",
     "output_type": "stream",
     "text": [
      "2023-12-29 19:20:01 - INFO     | Early Stopping counter: 1 out of 3\n",
      " 85%|████████▌ | 17/20 [03:02<00:32, 10.67s/it]"
     ]
    },
    {
     "name": "stdout",
     "output_type": "stream",
     "text": [
      "Training/Validation Loss after 951744 examples:  0.026 | 0.080\n",
      "Epoch 17 - learning rate: 0.0005\n",
      "Training/Validation Loss after 952064 examples:  0.000 | 0.081\n",
      "Training/Validation Loss after 953920 examples:  0.023 | 0.079\n",
      "Training/Validation Loss after 955776 examples:  0.012 | 0.084\n",
      "Training/Validation Loss after 957632 examples:  0.019 | 0.083\n",
      "Training/Validation Loss after 959488 examples:  0.011 | 0.083\n",
      "Training/Validation Loss after 961344 examples:  0.019 | 0.083\n",
      "Training/Validation Loss after 963200 examples:  0.025 | 0.082\n",
      "Training/Validation Loss after 965056 examples:  0.030 | 0.084\n",
      "Training/Validation Loss after 966912 examples:  0.021 | 0.082\n",
      "Training/Validation Loss after 968768 examples:  0.018 | 0.081\n",
      "Training/Validation Loss after 970624 examples:  0.010 | 0.085\n",
      "Training/Validation Loss after 972480 examples:  0.021 | 0.084\n",
      "Training/Validation Loss after 974336 examples:  0.013 | 0.083\n",
      "Training/Validation Loss after 976192 examples:  0.024 | 0.086\n",
      "Training/Validation Loss after 978048 examples:  0.019 | 0.083\n",
      "Training/Validation Loss after 979904 examples:  0.012 | 0.084\n",
      "Training/Validation Loss after 981760 examples:  0.015 | 0.084\n",
      "Training/Validation Loss after 983616 examples:  0.028 | 0.083\n",
      "Training/Validation Loss after 985472 examples:  0.029 | 0.090\n",
      "Training/Validation Loss after 987328 examples:  0.018 | 0.086\n",
      "Training/Validation Loss after 989184 examples:  0.016 | 0.084\n",
      "Training/Validation Loss after 991040 examples:  0.010 | 0.082\n",
      "Training/Validation Loss after 992896 examples:  0.019 | 0.088\n",
      "Training/Validation Loss after 994752 examples:  0.019 | 0.085\n",
      "Training/Validation Loss after 996608 examples:  0.023 | 0.086\n",
      "Training/Validation Loss after 998464 examples:  0.011 | 0.090\n",
      "Training/Validation Loss after 1000320 examples:  0.013 | 0.087\n",
      "Training/Validation Loss after 1002176 examples:  0.019 | 0.087\n",
      "Training/Validation Loss after 1004032 examples:  0.016 | 0.090\n",
      "Training/Validation Loss after 1005888 examples:  0.013 | 0.084\n"
     ]
    },
    {
     "name": "stderr",
     "output_type": "stream",
     "text": [
      "2023-12-29 19:20:12 - INFO     | Early Stopping counter: 2 out of 3\n",
      " 90%|█████████ | 18/20 [03:13<00:21, 10.75s/it]"
     ]
    },
    {
     "name": "stdout",
     "output_type": "stream",
     "text": [
      "Training/Validation Loss after 1007744 examples:  0.020 | 0.085\n",
      "Epoch 18 - learning rate: 0.0005\n",
      "Training/Validation Loss after 1008064 examples:  0.006 | 0.084\n",
      "Training/Validation Loss after 1009920 examples:  0.014 | 0.085\n",
      "Training/Validation Loss after 1011776 examples:  0.010 | 0.083\n",
      "Training/Validation Loss after 1013632 examples:  0.008 | 0.085\n",
      "Training/Validation Loss after 1015488 examples:  0.015 | 0.084\n",
      "Training/Validation Loss after 1017344 examples:  0.010 | 0.088\n",
      "Training/Validation Loss after 1019200 examples:  0.018 | 0.084\n",
      "Training/Validation Loss after 1021056 examples:  0.012 | 0.087\n",
      "Training/Validation Loss after 1022912 examples:  0.015 | 0.085\n",
      "Training/Validation Loss after 1024768 examples:  0.007 | 0.086\n",
      "Training/Validation Loss after 1026624 examples:  0.018 | 0.085\n",
      "Training/Validation Loss after 1028480 examples:  0.013 | 0.086\n",
      "Training/Validation Loss after 1030336 examples:  0.011 | 0.089\n",
      "Training/Validation Loss after 1032192 examples:  0.025 | 0.088\n",
      "Training/Validation Loss after 1034048 examples:  0.020 | 0.086\n",
      "Training/Validation Loss after 1035904 examples:  0.012 | 0.091\n",
      "Training/Validation Loss after 1037760 examples:  0.013 | 0.087\n",
      "Training/Validation Loss after 1039616 examples:  0.014 | 0.086\n",
      "Training/Validation Loss after 1041472 examples:  0.010 | 0.086\n",
      "Training/Validation Loss after 1043328 examples:  0.018 | 0.084\n",
      "Training/Validation Loss after 1045184 examples:  0.038 | 0.087\n",
      "Training/Validation Loss after 1047040 examples:  0.022 | 0.095\n",
      "Training/Validation Loss after 1048896 examples:  0.011 | 0.091\n",
      "Training/Validation Loss after 1050752 examples:  0.014 | 0.087\n",
      "Training/Validation Loss after 1052608 examples:  0.011 | 0.089\n",
      "Training/Validation Loss after 1054464 examples:  0.017 | 0.090\n",
      "Training/Validation Loss after 1056320 examples:  0.010 | 0.090\n",
      "Training/Validation Loss after 1058176 examples:  0.016 | 0.088\n",
      "Training/Validation Loss after 1060032 examples:  0.014 | 0.090\n",
      "Training/Validation Loss after 1061888 examples:  0.012 | 0.086\n"
     ]
    },
    {
     "name": "stderr",
     "output_type": "stream",
     "text": [
      "2023-12-29 19:20:23 - INFO     | Early Stopping counter: 3 out of 3\n",
      " 90%|█████████ | 18/20 [03:24<00:22, 11.38s/it]"
     ]
    },
    {
     "name": "stdout",
     "output_type": "stream",
     "text": [
      "Training/Validation Loss after 1063744 examples:  0.025 | 0.090\n",
      "Early stopping\n"
     ]
    },
    {
     "name": "stderr",
     "output_type": "stream",
     "text": [
      "\n"
     ]
    },
    {
     "name": "stdout",
     "output_type": "stream",
     "text": [
      "Average Loss on test set: 0.092\n",
      "Weighted Precision: 0.981, Recall: 0.981, F1: 0.981\n"
     ]
    },
    {
     "name": "stderr",
     "output_type": "stream",
     "text": [
      "wandb: WARNING Source type is set to 'repo' but some required information is missing from the environment. A job will not be created from this run. See https://docs.wandb.ai/guides/launch/create-job\n"
     ]
    },
    {
     "data": {
      "text/html": [
       "<style>\n",
       "    table.wandb td:nth-child(1) { padding: 0 10px; text-align: left ; width: auto;} td:nth-child(2) {text-align: left ; width: 100%}\n",
       "    .wandb-row { display: flex; flex-direction: row; flex-wrap: wrap; justify-content: flex-start; width: 100% }\n",
       "    .wandb-col { display: flex; flex-direction: column; flex-basis: 100%; flex: 1; padding: 10px; }\n",
       "    </style>\n",
       "<div class=\"wandb-row\"><div class=\"wandb-col\"><h3>Run history:</h3><br/><table class=\"wandb\"><tr><td>epoch</td><td>▁▁▁▁▂▂▂▂▂▃▃▃▃▃▃▄▄▄▄▅▅▅▅▅▅▆▆▆▆▆▆▆▇▇▇▇████</td></tr><tr><td>test_loss</td><td>▁</td></tr><tr><td>training_loss</td><td>█▆▅▅▄▅▄▄▄▄▄▃▄▄▃▄▃▃▄▃▃▃▄▃▃▃▂▂▂▂▂▂▁▁▁▁▁▁▁▁</td></tr><tr><td>validation_loss</td><td>█▅▄▅▄▆▄▅▃▃▄▄▃▃▂▃▂▃▃▃▃▂▃▂▃▂▂▁▁▁▁▁▁▁▁▁▁▁▁▁</td></tr><tr><td>weighted_f1</td><td>▁</td></tr><tr><td>weighted_precision</td><td>▁</td></tr><tr><td>weighted_recall</td><td>▁</td></tr></table><br/></div><div class=\"wandb-col\"><h3>Run summary:</h3><br/><table class=\"wandb\"><tr><td>epoch</td><td>18</td></tr><tr><td>test_loss</td><td>0.09154</td></tr><tr><td>training_loss</td><td>0.02509</td></tr><tr><td>validation_loss</td><td>0.09033</td></tr><tr><td>weighted_f1</td><td>0.98115</td></tr><tr><td>weighted_precision</td><td>0.98122</td></tr><tr><td>weighted_recall</td><td>0.98114</td></tr></table><br/></div></div>"
      ],
      "text/plain": [
       "<IPython.core.display.HTML object>"
      ]
     },
     "metadata": {},
     "output_type": "display_data"
    },
    {
     "data": {
      "text/html": [
       " View run <strong style=\"color:#cdcd00\">different-cherry-26</strong> at: <a href='https://wandb.ai/shane-kercheval/pytorch-demo/runs/2937kkm6' target=\"_blank\">https://wandb.ai/shane-kercheval/pytorch-demo/runs/2937kkm6</a><br/>Synced 5 W&B file(s), 4 media file(s), 1 artifact file(s) and 1 other file(s)"
      ],
      "text/plain": [
       "<IPython.core.display.HTML object>"
      ]
     },
     "metadata": {},
     "output_type": "display_data"
    },
    {
     "data": {
      "text/html": [
       "Find logs at: <code>./wandb/run-20231229_191657-2937kkm6/logs</code>"
      ],
      "text/plain": [
       "<IPython.core.display.HTML object>"
      ]
     },
     "metadata": {},
     "output_type": "display_data"
    },
    {
     "data": {
      "image/png": "[encoded data removed]",
      "text/plain": [
       "<Figure size 640x480 with 30 Axes>"
      ]
     },
     "metadata": {},
     "output_type": "display_data"
    },
    {
     "data": {
      "image/png": "[encoded data removed]",
      "text/plain": [
       "<Figure size 1000x1000 with 1 Axes>"
      ]
     },
     "metadata": {},
     "output_type": "display_data"
    },
    {
     "data": {
      "image/png": "[encoded data removed]",
      "text/plain": [
       "<Figure size 640x480 with 1 Axes>"
      ]
     },
     "metadata": {},
     "output_type": "display_data"
    }
   ],
   "source": [
    "config = {\n",
    "    'project': 'pytorch-demo',\n",
    "    'tags': ['pytorch', 'demo'],\n",
    "    'notes': 'First run with a simple CNN',\n",
    "    'epochs': 20,\n",
    "    'classes': 10,\n",
    "    'kernels': [16, 32],\n",
    "    'batch_size': 64,\n",
    "    'optimizer': 'Adam',\n",
    "    # 'learning_rates': 0.005,\n",
    "    'learning_rates': [0.005, 0.001, 0.0005],\n",
    "    'dataset': 'MNIST',\n",
    "    'architecture': 'CNN',\n",
    "}\n",
    "# Build, train and analyze the model with the pipeline\n",
    "model = model_pipeline(config)"
   ]
  },
  {
   "cell_type": "code",
   "execution_count": null,
   "metadata": {},
   "outputs": [],
   "source": []
  }
 ],
 "metadata": {
  "kernelspec": {
   "display_name": "Python 3",
   "language": "python",
   "name": "python3"
  },
  "language_info": {
   "codemirror_mode": {
    "name": "ipython",
    "version": 3
   },
   "file_extension": ".py",
   "mimetype": "text/x-python",
   "name": "python",
   "nbconvert_exporter": "python",
   "pygments_lexer": "ipython3",
   "version": "3.11.7"
  }
 },
 "nbformat": 4,
 "nbformat_minor": 2
}
