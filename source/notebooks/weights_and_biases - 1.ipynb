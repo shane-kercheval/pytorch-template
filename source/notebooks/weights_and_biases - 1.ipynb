{
 "cells": [
  {
   "cell_type": "code",
   "execution_count": 1,
   "metadata": {},
   "outputs": [
    {
     "name": "stderr",
     "output_type": "stream",
     "text": [
      "/usr/local/lib/python3.11/site-packages/tqdm/auto.py:21: TqdmWarning: IProgress not found. Please update jupyter and ipywidgets. See https://ipywidgets.readthedocs.io/en/stable/user_install.html\n",
      "  from .autonotebook import tqdm as notebook_tqdm\n"
     ]
    }
   ],
   "source": [
    "import os\n",
    "import random\n",
    "import numpy as np\n",
    "import torch\n",
    "from torch import nn\n",
    "from torch.utils.data import TensorDataset, DataLoader\n",
    "# import torchvision\n",
    "# import torchvision.transforms as transforms\n",
    "# import matplotlib.pyplot as plt\n",
    "from sklearn.datasets import fetch_openml\n",
    "from sklearn.model_selection import train_test_split\n",
    "from tqdm.auto import tqdm\n",
    "import wandb\n",
    "\n",
    "# save weights and biases api key to .env file in project directory\n",
    "assert os.getenv('WANDB_API_KEY')\n",
    "assert torch.cuda.is_available()\n",
    "\n",
    "# Ensure deterministic behavior\n",
    "torch.backends.cudnn.deterministic = True\n",
    "random.seed(hash(\"setting random seeds\") % 2**32 - 1)\n",
    "np.random.seed(hash(\"improves reproducibility\") % 2**32 - 1)  # noqa: NPY002\n",
    "torch.manual_seed(hash(\"by removing stochasticity\") % 2**32 - 1)\n",
    "torch.cuda.manual_seed_all(hash(\"so runs are repeatable\") % 2**32 - 1)\n",
    "\n",
    "# Device configuration\n",
    "device = torch.device(\"cuda:0\" if torch.cuda.is_available() else \"cpu\")"
   ]
  },
  {
   "cell_type": "code",
   "execution_count": 2,
   "metadata": {},
   "outputs": [
    {
     "name": "stderr",
     "output_type": "stream",
     "text": [
      "Failed to detect the name of this notebook, you can set it manually with the WANDB_NOTEBOOK_NAME environment variable to enable code saving.\n",
      "\u001b[34m\u001b[1mwandb\u001b[0m: Currently logged in as: \u001b[33mshane-kercheval\u001b[0m. Use \u001b[1m`wandb login --relogin`\u001b[0m to force relogin\n"
     ]
    },
    {
     "data": {
      "text/plain": [
       "True"
      ]
     },
     "execution_count": 2,
     "metadata": {},
     "output_type": "execute_result"
    }
   ],
   "source": [
    "wandb.login()"
   ]
  },
  {
   "cell_type": "code",
   "execution_count": 3,
   "metadata": {},
   "outputs": [
    {
     "name": "stdout",
     "output_type": "stream",
     "text": [
      "Training set  : X-torch.Size([56000, 1, 28, 28]), y-torch.Size([56000])\n",
      "Validation set: X-torch.Size([7000, 1, 28, 28]), y-torch.Size([7000])\n",
      "Test set      : X-torch.Size([7000, 1, 28, 28]), y-torch.Size([7000])\n"
     ]
    }
   ],
   "source": [
    "x, y = fetch_openml('mnist_784', version=1, return_X_y=True, parser='auto')\n",
    "x = torch.tensor(x.values, dtype=torch.float32)\n",
    "y = torch.tensor(y.astype(int).values, dtype=torch.long)\n",
    "\n",
    "# need to make this dynamic based on Fully Connected vs Convolutional\n",
    "# Reshape data to have channel dimension\n",
    "# MNIST images are 28x28, so we reshape them to [batch_size, 1, 28, 28]\n",
    "x = x.reshape(-1, 1, 28, 28)\n",
    "\n",
    "# 80% train; 10% validation; 10% test\n",
    "x_train, x_test, y_train, y_test = train_test_split(x, y, test_size=0.2, random_state=42)\n",
    "x_test, x_val, y_test, y_val = train_test_split(x_test, y_test, test_size=0.5, random_state=42)\n",
    "\n",
    "print(f\"Training set  : X-{x_train.shape}, y-{y_train.shape}\")\n",
    "print(f\"Validation set: X-{x_val.shape}, y-{y_val.shape}\")\n",
    "print(f\"Test set      : X-{x_test.shape}, y-{y_test.shape}\")"
   ]
  },
  {
   "cell_type": "code",
   "execution_count": 4,
   "metadata": {},
   "outputs": [],
   "source": [
    "class ConvNet(nn.Module):\n",
    "    \"\"\"Convolutional neural network (two convolutional layers).\"\"\"\n",
    "\n",
    "    def __init__(self, kernels: list, classes: int = 10):\n",
    "        super().__init__()\n",
    "\n",
    "        self.layer1 = nn.Sequential(\n",
    "            nn.Conv2d(1, kernels[0], kernel_size=5, stride=1, padding=2),\n",
    "            nn.ReLU(),\n",
    "            nn.MaxPool2d(kernel_size=2, stride=2))\n",
    "        self.layer2 = nn.Sequential(\n",
    "            nn.Conv2d(16, kernels[1], kernel_size=5, stride=1, padding=2),\n",
    "            nn.ReLU(),\n",
    "            nn.MaxPool2d(kernel_size=2, stride=2))\n",
    "        self.fc = nn.Linear(7 * 7 * kernels[-1], classes)\n",
    "\n",
    "    def forward(self, x: torch.Tensor) -> torch.Tensor:\n",
    "        \"\"\"Forward pass.\"\"\"\n",
    "        out = self.layer1(x)\n",
    "        out = self.layer2(out)\n",
    "        out = out.reshape(out.size(0), -1)\n",
    "        return self.fc(out)"
   ]
  },
  {
   "cell_type": "code",
   "execution_count": 5,
   "metadata": {},
   "outputs": [],
   "source": [
    "def make_loader(x: torch.tensor, y: torch.tensor, batch_size: int) -> DataLoader:\n",
    "    \"\"\"Make a DataLoader from a given dataset.\"\"\"\n",
    "    return DataLoader(\n",
    "        dataset=TensorDataset(x, y),\n",
    "        batch_size=batch_size,\n",
    "        shuffle=True,\n",
    "        pin_memory=True,\n",
    "        num_workers=2,\n",
    "    )\n",
    "\n",
    "\n",
    "def make(config: dict) -> tuple:\n",
    "    \"\"\"Make the model, data, and optimization objects.\"\"\"\n",
    "    # Make the data\n",
    "    train_loader = make_loader(x_train, y_train, batch_size=config.batch_size)\n",
    "    validation_loader = make_loader(x_val, y_val, batch_size=config.batch_size)\n",
    "    test_loader = make_loader(x_test, y_test, batch_size=config.batch_size)\n",
    "\n",
    "    # Make the model\n",
    "    model = ConvNet(config.kernels, config.classes).to(device)\n",
    "\n",
    "    # Make the loss and optimizer\n",
    "    criterion = nn.CrossEntropyLoss()\n",
    "    optimizer = torch.optim.Adam(model.parameters(), lr=config.learning_rate)\n",
    "\n",
    "    return (\n",
    "        model,\n",
    "        train_loader,\n",
    "        validation_loader,\n",
    "        test_loader,\n",
    "        criterion,\n",
    "        optimizer,\n",
    "    )\n",
    "\n",
    "\n",
    "def train_log(training_loss: float, validation_loss: float, example_ct: int, epoch: int) -> None:\n",
    "    \"\"\"Logs loss to the console and wandb.\"\"\"\n",
    "    # Where the magic happens\n",
    "    wandb.log(\n",
    "        {\n",
    "            'epoch': epoch,\n",
    "            'training_loss': training_loss,\n",
    "            'validation_loss': validation_loss\n",
    "        },\n",
    "        step=example_ct,\n",
    "    )\n",
    "    print(\n",
    "        f\"Training/Validation Loss after {str(example_ct).zfill(5)} examples: \",\n",
    "        f\"{training_loss:.3f} | {validation_loss:.3f}\",\n",
    "    )\n",
    "\n",
    "\n",
    "def calculate_average_loss(\n",
    "        data_loader: DataLoader,\n",
    "        model: nn.Module,\n",
    "        loss_function: callable) -> float:\n",
    "    \"\"\"Calculates the average loss over a dataset.\"\"\"\n",
    "    running_loss = 0\n",
    "    total_samples = 0\n",
    "    with torch.no_grad():\n",
    "        for x, y in data_loader:\n",
    "            x, y = x.to(device), y.to(device)\n",
    "            loss = loss_function(model(x), y)\n",
    "            # weighted average of the loss adjusted for the batch size\n",
    "            running_loss += loss.item() * x.shape[0]\n",
    "            total_samples += x.shape[0]\n",
    "    return running_loss / total_samples\n",
    "\n",
    "\n",
    "def train(\n",
    "        model: nn.Module,\n",
    "        train_loader: DataLoader,\n",
    "        validation_loader: DataLoader,\n",
    "        criterion: callable,\n",
    "        optimizer: torch.optim.Optimizer,\n",
    "        config: dict) -> None:\n",
    "    \"\"\"Trains the model for the number of epochs specified in the config.\"\"\"\n",
    "    model.train()\n",
    "    # Tell wandb to watch what the model gets up to: gradients, weights, and more!\n",
    "    wandb.watch(model, criterion, log=\"all\", log_freq=10)\n",
    "\n",
    "    # Run training and track with wandb\n",
    "    example_ct = 0  # number of examples seen\n",
    "    batch_ct = 0\n",
    "\n",
    "    for epoch in tqdm(range(config.epochs)):\n",
    "        running_training_loss = 0\n",
    "        total_train_samples = 0\n",
    "        for _, (x_batch, y_batch) in enumerate(train_loader):\n",
    "            x_batch, y_batch = x_batch.to(device), y_batch.to(device)  # noqa: PLW2901\n",
    "            # ➡ Forward pass\n",
    "            outputs = model(x_batch)\n",
    "            loss = criterion(outputs, y_batch)\n",
    "            # ⬅ Backward pass & optimize\n",
    "            optimizer.zero_grad()\n",
    "            loss.backward()\n",
    "            optimizer.step()\n",
    "\n",
    "            example_ct += len(x_batch)\n",
    "            batch_ct += 1\n",
    "            # weighted average of the training loss\n",
    "            running_training_loss += loss.item() * x_batch.shape[0]\n",
    "            total_train_samples += x_batch.shape[0]\n",
    "            # Report metrics every 25th batch\n",
    "            if ((batch_ct + 1) % 25) == 0:\n",
    "                avg_training_loss = running_training_loss / total_train_samples\n",
    "                running_training_loss = 0\n",
    "                total_train_samples = 0\n",
    "                model.eval()\n",
    "                average_validation_loss = calculate_average_loss(\n",
    "                    validation_loader, model, criterion\n",
    "                )\n",
    "                train_log(avg_training_loss, average_validation_loss, example_ct, epoch)\n",
    "                model.train()\n",
    "\n",
    "\n",
    "def test(model: nn.Module, test_loader: DataLoader) -> None:\n",
    "    \"\"\"Tests the model on the test set. Logs the accuracy to the console and to wandb.\"\"\"\n",
    "    model.eval()\n",
    "    # Run the model on some test examples\n",
    "    with torch.no_grad():\n",
    "        correct, total = 0, 0\n",
    "        for x, y in test_loader:\n",
    "            x, y = x.to(device), y.to(device)  # noqa: PLW2901\n",
    "            outputs = model(x)\n",
    "            _, predicted = torch.max(outputs.data, 1)\n",
    "            total += y.size(0)\n",
    "            correct += (predicted == y).sum().item()\n",
    "\n",
    "        print(f\"Accuracy of the model on the {total} test images: {correct / total:%}\")\n",
    "        wandb.log({'test_accuracy': correct / total})\n",
    "\n",
    "    # Save the model in the exchangeable ONNX format\n",
    "    torch.onnx.export(model, x, 'model.onnx')\n",
    "    wandb.save('model.onnx')\n",
    "\n",
    "\n",
    "def model_pipeline(config: dict) -> nn.Module:\n",
    "    \"\"\"Builds the model and runs it.\"\"\"\n",
    "    # tell wandb to get started\n",
    "    with wandb.init(project=\"pytorch-demo\", config=config):\n",
    "      config = wandb.config\n",
    "      # make the model, data, and optimization problem\n",
    "      model, train_loader, validation_loader, test_loader, criterion, optimizer = make(config)\n",
    "      print(model)\n",
    "      # and use them to train the model\n",
    "      train(model, train_loader, validation_loader, criterion, optimizer, config)\n",
    "      # and test its final performance\n",
    "      test(model, test_loader)\n",
    "\n",
    "    return model"
   ]
  },
  {
   "cell_type": "code",
   "execution_count": 6,
   "metadata": {},
   "outputs": [
    {
     "data": {
      "text/html": [
       "Tracking run with wandb version 0.16.1"
      ],
      "text/plain": [
       "<IPython.core.display.HTML object>"
      ]
     },
     "metadata": {},
     "output_type": "display_data"
    },
    {
     "data": {
      "text/html": [
       "Run data is saved locally in <code>/code/source/notebooks/wandb/run-20231228_183546-lqa1iw6i</code>"
      ],
      "text/plain": [
       "<IPython.core.display.HTML object>"
      ]
     },
     "metadata": {},
     "output_type": "display_data"
    },
    {
     "data": {
      "text/html": [
       "Syncing run <strong><a href='https://wandb.ai/shane-kercheval/pytorch-demo/runs/lqa1iw6i' target=\"_blank\">valiant-capybara-7</a></strong> to <a href='https://wandb.ai/shane-kercheval/pytorch-demo' target=\"_blank\">Weights & Biases</a> (<a href='https://wandb.me/run' target=\"_blank\">docs</a>)<br/>"
      ],
      "text/plain": [
       "<IPython.core.display.HTML object>"
      ]
     },
     "metadata": {},
     "output_type": "display_data"
    },
    {
     "data": {
      "text/html": [
       " View project at <a href='https://wandb.ai/shane-kercheval/pytorch-demo' target=\"_blank\">https://wandb.ai/shane-kercheval/pytorch-demo</a>"
      ],
      "text/plain": [
       "<IPython.core.display.HTML object>"
      ]
     },
     "metadata": {},
     "output_type": "display_data"
    },
    {
     "data": {
      "text/html": [
       " View run at <a href='https://wandb.ai/shane-kercheval/pytorch-demo/runs/lqa1iw6i' target=\"_blank\">https://wandb.ai/shane-kercheval/pytorch-demo/runs/lqa1iw6i</a>"
      ],
      "text/plain": [
       "<IPython.core.display.HTML object>"
      ]
     },
     "metadata": {},
     "output_type": "display_data"
    },
    {
     "name": "stdout",
     "output_type": "stream",
     "text": [
      "ConvNet(\n",
      "  (layer1): Sequential(\n",
      "    (0): Conv2d(1, 16, kernel_size=(5, 5), stride=(1, 1), padding=(2, 2))\n",
      "    (1): ReLU()\n",
      "    (2): MaxPool2d(kernel_size=2, stride=2, padding=0, dilation=1, ceil_mode=False)\n",
      "  )\n",
      "  (layer2): Sequential(\n",
      "    (0): Conv2d(16, 32, kernel_size=(5, 5), stride=(1, 1), padding=(2, 2))\n",
      "    (1): ReLU()\n",
      "    (2): MaxPool2d(kernel_size=2, stride=2, padding=0, dilation=1, ceil_mode=False)\n",
      "  )\n",
      "  (fc): Linear(in_features=1568, out_features=10, bias=True)\n",
      ")\n"
     ]
    },
    {
     "name": "stderr",
     "output_type": "stream",
     "text": [
      "  0%|          | 0/5 [00:00<?, ?it/s]"
     ]
    },
    {
     "name": "stdout",
     "output_type": "stream",
     "text": [
      "Training/Validation Loss after 03072 examples:  7.274 | 1.030\n",
      "Training/Validation Loss after 06272 examples:  0.679 | 0.499\n",
      "Training/Validation Loss after 09472 examples:  0.377 | 0.352\n",
      "Training/Validation Loss after 12672 examples:  0.329 | 0.318\n",
      "Training/Validation Loss after 15872 examples:  0.305 | 0.256\n",
      "Training/Validation Loss after 19072 examples:  0.283 | 0.249\n",
      "Training/Validation Loss after 22272 examples:  0.265 | 0.226\n",
      "Training/Validation Loss after 25472 examples:  0.219 | 0.229\n",
      "Training/Validation Loss after 28672 examples:  0.215 | 0.199\n",
      "Training/Validation Loss after 31872 examples:  0.205 | 0.185\n",
      "Training/Validation Loss after 35072 examples:  0.200 | 0.188\n",
      "Training/Validation Loss after 38272 examples:  0.178 | 0.197\n",
      "Training/Validation Loss after 41472 examples:  0.192 | 0.171\n",
      "Training/Validation Loss after 44672 examples:  0.215 | 0.191\n",
      "Training/Validation Loss after 47872 examples:  0.160 | 0.144\n",
      "Training/Validation Loss after 51072 examples:  0.164 | 0.170\n"
     ]
    },
    {
     "name": "stderr",
     "output_type": "stream",
     "text": [
      " 20%|██        | 1/5 [00:05<00:20,  5.17s/it]"
     ]
    },
    {
     "name": "stdout",
     "output_type": "stream",
     "text": [
      "Training/Validation Loss after 54272 examples:  0.185 | 0.155\n",
      "Training/Validation Loss after 57408 examples:  0.139 | 0.143\n",
      "Training/Validation Loss after 60608 examples:  0.159 | 0.160\n",
      "Training/Validation Loss after 63808 examples:  0.160 | 0.166\n",
      "Training/Validation Loss after 67008 examples:  0.165 | 0.168\n",
      "Training/Validation Loss after 70208 examples:  0.152 | 0.138\n",
      "Training/Validation Loss after 73408 examples:  0.136 | 0.153\n",
      "Training/Validation Loss after 76608 examples:  0.136 | 0.154\n",
      "Training/Validation Loss after 79808 examples:  0.139 | 0.151\n",
      "Training/Validation Loss after 83008 examples:  0.138 | 0.139\n",
      "Training/Validation Loss after 86208 examples:  0.139 | 0.136\n",
      "Training/Validation Loss after 89408 examples:  0.147 | 0.144\n",
      "Training/Validation Loss after 92608 examples:  0.148 | 0.138\n",
      "Training/Validation Loss after 95808 examples:  0.139 | 0.144\n",
      "Training/Validation Loss after 99008 examples:  0.157 | 0.162\n",
      "Training/Validation Loss after 102208 examples:  0.141 | 0.146\n",
      "Training/Validation Loss after 105408 examples:  0.168 | 0.201\n",
      "Training/Validation Loss after 108608 examples:  0.135 | 0.193\n"
     ]
    },
    {
     "name": "stderr",
     "output_type": "stream",
     "text": [
      " 40%|████      | 2/5 [00:10<00:15,  5.22s/it]"
     ]
    },
    {
     "name": "stdout",
     "output_type": "stream",
     "text": [
      "Training/Validation Loss after 111808 examples:  0.195 | 0.138\n",
      "Training/Validation Loss after 114944 examples:  0.112 | 0.132\n",
      "Training/Validation Loss after 118144 examples:  0.100 | 0.132\n",
      "Training/Validation Loss after 121344 examples:  0.128 | 0.141\n",
      "Training/Validation Loss after 124544 examples:  0.133 | 0.120\n",
      "Training/Validation Loss after 127744 examples:  0.123 | 0.131\n",
      "Training/Validation Loss after 130944 examples:  0.152 | 0.157\n",
      "Training/Validation Loss after 134144 examples:  0.131 | 0.144\n",
      "Training/Validation Loss after 137344 examples:  0.133 | 0.165\n",
      "Training/Validation Loss after 140544 examples:  0.130 | 0.114\n",
      "Training/Validation Loss after 143744 examples:  0.096 | 0.120\n",
      "Training/Validation Loss after 146944 examples:  0.132 | 0.161\n",
      "Training/Validation Loss after 150144 examples:  0.119 | 0.149\n",
      "Training/Validation Loss after 153344 examples:  0.127 | 0.133\n",
      "Training/Validation Loss after 156544 examples:  0.136 | 0.126\n",
      "Training/Validation Loss after 159744 examples:  0.121 | 0.144\n",
      "Training/Validation Loss after 162944 examples:  0.138 | 0.123\n"
     ]
    },
    {
     "name": "stderr",
     "output_type": "stream",
     "text": [
      " 60%|██████    | 3/5 [00:15<00:10,  5.27s/it]"
     ]
    },
    {
     "name": "stdout",
     "output_type": "stream",
     "text": [
      "Training/Validation Loss after 166144 examples:  0.121 | 0.118\n",
      "Training/Validation Loss after 169280 examples:  0.083 | 0.134\n",
      "Training/Validation Loss after 172480 examples:  0.118 | 0.109\n",
      "Training/Validation Loss after 175680 examples:  0.103 | 0.111\n",
      "Training/Validation Loss after 178880 examples:  0.134 | 0.126\n",
      "Training/Validation Loss after 182080 examples:  0.120 | 0.118\n",
      "Training/Validation Loss after 185280 examples:  0.122 | 0.155\n",
      "Training/Validation Loss after 188480 examples:  0.111 | 0.125\n",
      "Training/Validation Loss after 191680 examples:  0.133 | 0.126\n",
      "Training/Validation Loss after 194880 examples:  0.110 | 0.114\n",
      "Training/Validation Loss after 198080 examples:  0.113 | 0.143\n",
      "Training/Validation Loss after 201280 examples:  0.140 | 0.116\n",
      "Training/Validation Loss after 204480 examples:  0.130 | 0.130\n",
      "Training/Validation Loss after 207680 examples:  0.116 | 0.148\n",
      "Training/Validation Loss after 210880 examples:  0.104 | 0.129\n",
      "Training/Validation Loss after 214080 examples:  0.113 | 0.117\n",
      "Training/Validation Loss after 217280 examples:  0.112 | 0.126\n",
      "Training/Validation Loss after 220480 examples:  0.119 | 0.118\n"
     ]
    },
    {
     "name": "stderr",
     "output_type": "stream",
     "text": [
      " 80%|████████  | 4/5 [00:20<00:05,  5.23s/it]"
     ]
    },
    {
     "name": "stdout",
     "output_type": "stream",
     "text": [
      "Training/Validation Loss after 223680 examples:  0.117 | 0.117\n",
      "Training/Validation Loss after 226816 examples:  0.117 | 0.118\n",
      "Training/Validation Loss after 230016 examples:  0.116 | 0.119\n",
      "Training/Validation Loss after 233216 examples:  0.087 | 0.109\n",
      "Training/Validation Loss after 236416 examples:  0.121 | 0.151\n",
      "Training/Validation Loss after 239616 examples:  0.111 | 0.136\n",
      "Training/Validation Loss after 242816 examples:  0.100 | 0.131\n",
      "Training/Validation Loss after 246016 examples:  0.104 | 0.125\n",
      "Training/Validation Loss after 249216 examples:  0.122 | 0.134\n",
      "Training/Validation Loss after 252416 examples:  0.115 | 0.129\n",
      "Training/Validation Loss after 255616 examples:  0.117 | 0.117\n",
      "Training/Validation Loss after 258816 examples:  0.105 | 0.122\n",
      "Training/Validation Loss after 262016 examples:  0.117 | 0.115\n",
      "Training/Validation Loss after 265216 examples:  0.117 | 0.118\n",
      "Training/Validation Loss after 268416 examples:  0.111 | 0.117\n",
      "Training/Validation Loss after 271616 examples:  0.096 | 0.111\n",
      "Training/Validation Loss after 274816 examples:  0.112 | 0.147\n"
     ]
    },
    {
     "name": "stderr",
     "output_type": "stream",
     "text": [
      "100%|██████████| 5/5 [00:26<00:00,  5.28s/it]"
     ]
    },
    {
     "name": "stdout",
     "output_type": "stream",
     "text": [
      "Training/Validation Loss after 278016 examples:  0.130 | 0.123\n"
     ]
    },
    {
     "name": "stderr",
     "output_type": "stream",
     "text": [
      "\n"
     ]
    },
    {
     "name": "stdout",
     "output_type": "stream",
     "text": [
      "Accuracy of the model on the 7000 test images: 96.714286%\n"
     ]
    },
    {
     "name": "stderr",
     "output_type": "stream",
     "text": [
      "wandb: WARNING Source type is set to 'repo' but some required information is missing from the environment. A job will not be created from this run. See https://docs.wandb.ai/guides/launch/create-job\n"
     ]
    },
    {
     "data": {
      "text/html": [
       "<style>\n",
       "    table.wandb td:nth-child(1) { padding: 0 10px; text-align: left ; width: auto;} td:nth-child(2) {text-align: left ; width: 100%}\n",
       "    .wandb-row { display: flex; flex-direction: row; flex-wrap: wrap; justify-content: flex-start; width: 100% }\n",
       "    .wandb-col { display: flex; flex-direction: column; flex-basis: 100%; flex: 1; padding: 10px; }\n",
       "    </style>\n",
       "<div class=\"wandb-row\"><div class=\"wandb-col\"><h3>Run history:</h3><br/><table class=\"wandb\"><tr><td>epoch</td><td>▁▁▁▁▁▁▁▁▃▃▃▃▃▃▃▃▅▅▅▅▅▅▅▅▆▆▆▆▆▆▆▆████████</td></tr><tr><td>test_accuracy</td><td>▁</td></tr><tr><td>training_loss</td><td>█▁▁▁▁▁▁▁▁▁▁▁▁▁▁▁▁▁▁▁▁▁▁▁▁▁▁▁▁▁▁▁▁▁▁▁▁▁▁▁</td></tr><tr><td>validation_loss</td><td>█▃▂▂▂▂▂▁▁▁▁▁▁▁▁▂▁▁▁▁▁▁▁▁▁▁▁▁▁▁▁▁▁▁▁▁▁▁▁▁</td></tr></table><br/></div><div class=\"wandb-col\"><h3>Run summary:</h3><br/><table class=\"wandb\"><tr><td>epoch</td><td>4</td></tr><tr><td>test_accuracy</td><td>0.96714</td></tr><tr><td>training_loss</td><td>0.13011</td></tr><tr><td>validation_loss</td><td>0.12278</td></tr></table><br/></div></div>"
      ],
      "text/plain": [
       "<IPython.core.display.HTML object>"
      ]
     },
     "metadata": {},
     "output_type": "display_data"
    },
    {
     "data": {
      "text/html": [
       " View run <strong style=\"color:#cdcd00\">valiant-capybara-7</strong> at: <a href='https://wandb.ai/shane-kercheval/pytorch-demo/runs/lqa1iw6i' target=\"_blank\">https://wandb.ai/shane-kercheval/pytorch-demo/runs/lqa1iw6i</a><br/>Synced 5 W&B file(s), 0 media file(s), 0 artifact file(s) and 1 other file(s)"
      ],
      "text/plain": [
       "<IPython.core.display.HTML object>"
      ]
     },
     "metadata": {},
     "output_type": "display_data"
    },
    {
     "data": {
      "text/html": [
       "Find logs at: <code>./wandb/run-20231228_183546-lqa1iw6i/logs</code>"
      ],
      "text/plain": [
       "<IPython.core.display.HTML object>"
      ]
     },
     "metadata": {},
     "output_type": "display_data"
    }
   ],
   "source": [
    "config = {\n",
    "    'epochs': 5,\n",
    "    'classes': 10,\n",
    "    'kernels': [16, 32],\n",
    "    'batch_size': 128,\n",
    "    'learning_rate': 0.005,\n",
    "    'dataset': 'MNIST',\n",
    "    'architecture': 'CNN',\n",
    "}\n",
    "# Build, train and analyze the model with the pipeline\n",
    "model = model_pipeline(config)"
   ]
  }
 ],
 "metadata": {
  "kernelspec": {
   "display_name": "Python 3",
   "language": "python",
   "name": "python3"
  },
  "language_info": {
   "codemirror_mode": {
    "name": "ipython",
    "version": 3
   },
   "file_extension": ".py",
   "mimetype": "text/x-python",
   "name": "python",
   "nbconvert_exporter": "python",
   "pygments_lexer": "ipython3",
   "version": "3.11.7"
  }
 },
 "nbformat": 4,
 "nbformat_minor": 2
}
