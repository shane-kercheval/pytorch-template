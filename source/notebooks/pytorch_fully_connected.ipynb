{
 "cells": [
  {
   "cell_type": "code",
   "execution_count": 1,
   "metadata": {},
   "outputs": [],
   "source": [
    "from sklearn.model_selection import train_test_split\n",
    "from sklearn.preprocessing import StandardScaler, OneHotEncoder, FunctionTransformer\n",
    "from sklearn.pipeline import make_pipeline\n",
    "from sklearn.compose import ColumnTransformer\n",
    "import torch\n",
    "\n",
    "%run \"/code/source/notebooks/notebook_settings.py\"\n",
    "import source.config.config as config\n",
    "import helpsk as hlp\n",
    "import os\n",
    "import pandas as pd"
   ]
  },
  {
   "cell_type": "markdown",
   "metadata": {},
   "source": [
    "# MPG"
   ]
  },
  {
   "cell_type": "code",
   "execution_count": 2,
   "metadata": {},
   "outputs": [
    {
     "name": "stdout",
     "output_type": "stream",
     "text": [
      "Timer Started: Loading Data\n",
      "Timer Finished (0.00 seconds)\n"
     ]
    }
   ],
   "source": [
    "with hlp.utility.Timer(\"Loading Data\"):\n",
    "    file_path = os.path.join(config.dir_data_raw(), 'auto_mpg.pkl')\n",
    "    auto_mpg = pd.pandas.read_pickle(file_path)"
   ]
  },
  {
   "cell_type": "code",
   "execution_count": 3,
   "metadata": {},
   "outputs": [
    {
     "data": {
      "text/html": [
       "<style type=\"text/css\">\n",
       "#T_93e06_row0_col2, #T_93e06_row0_col4, #T_93e06_row1_col2, #T_93e06_row1_col4, #T_93e06_row2_col2, #T_93e06_row2_col4, #T_93e06_row3_col4, #T_93e06_row4_col2, #T_93e06_row4_col4, #T_93e06_row5_col2, #T_93e06_row5_col4, #T_93e06_row6_col2, #T_93e06_row6_col4, #T_93e06_row7_col2, #T_93e06_row7_col4 {\n",
       "  width: 10em;\n",
       "}\n",
       "#T_93e06_row0_col7 {\n",
       "  width: 10em;\n",
       "  background: linear-gradient(90deg, #B4B7B9 33.0%, transparent 33.0%);\n",
       "}\n",
       "#T_93e06_row0_col8 {\n",
       "  width: 10em;\n",
       "  background: linear-gradient(90deg, transparent 50.0%, #B4B7B9 50.0%, #B4B7B9 61.5%, transparent 61.5%);\n",
       "}\n",
       "#T_93e06_row1_col7 {\n",
       "  width: 10em;\n",
       "  background: linear-gradient(90deg, #B4B7B9 31.0%, transparent 31.0%);\n",
       "}\n",
       "#T_93e06_row1_col8, #T_93e06_row4_col8 {\n",
       "  width: 10em;\n",
       "  background: linear-gradient(90deg, transparent 50.0%, #B4B7B9 50.0%, #B4B7B9 63.3%, transparent 63.3%);\n",
       "}\n",
       "#T_93e06_row2_col7 {\n",
       "  width: 10em;\n",
       "  background: linear-gradient(90deg, #B4B7B9 54.0%, transparent 54.0%);\n",
       "}\n",
       "#T_93e06_row2_col8 {\n",
       "  width: 10em;\n",
       "  background: linear-gradient(90deg, transparent 50.0%, #B4B7B9 50.0%, #B4B7B9 68.0%, transparent 68.0%);\n",
       "}\n",
       "#T_93e06_row3_col1 {\n",
       "  background-color: #EBB13E;\n",
       "}\n",
       "#T_93e06_row3_col2 {\n",
       "  width: 10em;\n",
       "  background: linear-gradient(90deg, #CF3721 2.0%, transparent 2.0%);\n",
       "}\n",
       "#T_93e06_row3_col7 {\n",
       "  width: 10em;\n",
       "  background: linear-gradient(90deg, #B4B7B9 37.0%, transparent 37.0%);\n",
       "}\n",
       "#T_93e06_row3_col8 {\n",
       "  width: 10em;\n",
       "  background: linear-gradient(90deg, transparent 50.0%, #B4B7B9 50.0%, #B4B7B9 77.2%, transparent 77.2%);\n",
       "}\n",
       "#T_93e06_row4_col7 {\n",
       "  width: 10em;\n",
       "  background: linear-gradient(90deg, #B4B7B9 29.0%, transparent 29.0%);\n",
       "}\n",
       "#T_93e06_row5_col7 {\n",
       "  width: 10em;\n",
       "  background: linear-gradient(90deg, #B4B7B9 18.0%, transparent 18.0%);\n",
       "}\n",
       "#T_93e06_row5_col8 {\n",
       "  width: 10em;\n",
       "  background: linear-gradient(90deg, transparent 50.0%, #B4B7B9 50.0%, #B4B7B9 57.0%, transparent 57.0%);\n",
       "}\n",
       "#T_93e06_row6_col7 {\n",
       "  width: 10em;\n",
       "  background: linear-gradient(90deg, #B4B7B9 5.0%, transparent 5.0%);\n",
       "}\n",
       "#T_93e06_row6_col8 {\n",
       "  width: 10em;\n",
       "  background: linear-gradient(90deg, transparent 50.0%, #B4B7B9 50.0%, #B4B7B9 50.2%, transparent 50.2%);\n",
       "}\n",
       "#T_93e06_row7_col7 {\n",
       "  width: 10em;\n",
       "  background: linear-gradient(90deg, #B4B7B9 51.0%, transparent 51.0%);\n",
       "}\n",
       "#T_93e06_row7_col8 {\n",
       "  width: 10em;\n",
       "  background: linear-gradient(90deg, transparent 50.0%, #B4B7B9 50.0%, #B4B7B9 73.0%, transparent 73.0%);\n",
       "}\n",
       "</style>\n",
       "<table id=\"T_93e06\">\n",
       "  <thead>\n",
       "    <tr>\n",
       "      <th class=\"blank level0\" >&nbsp;</th>\n",
       "      <th id=\"T_93e06_level0_col0\" class=\"col_heading level0 col0\" ># of Non-Nulls</th>\n",
       "      <th id=\"T_93e06_level0_col1\" class=\"col_heading level0 col1\" ># of Nulls</th>\n",
       "      <th id=\"T_93e06_level0_col2\" class=\"col_heading level0 col2\" >% Nulls</th>\n",
       "      <th id=\"T_93e06_level0_col3\" class=\"col_heading level0 col3\" ># of Zeros</th>\n",
       "      <th id=\"T_93e06_level0_col4\" class=\"col_heading level0 col4\" >% Zeros</th>\n",
       "      <th id=\"T_93e06_level0_col5\" class=\"col_heading level0 col5\" >Mean</th>\n",
       "      <th id=\"T_93e06_level0_col6\" class=\"col_heading level0 col6\" >St Dev.</th>\n",
       "      <th id=\"T_93e06_level0_col7\" class=\"col_heading level0 col7\" >Coef of Var</th>\n",
       "      <th id=\"T_93e06_level0_col8\" class=\"col_heading level0 col8\" >Skewness</th>\n",
       "      <th id=\"T_93e06_level0_col9\" class=\"col_heading level0 col9\" >Kurtosis</th>\n",
       "      <th id=\"T_93e06_level0_col10\" class=\"col_heading level0 col10\" >Min</th>\n",
       "      <th id=\"T_93e06_level0_col11\" class=\"col_heading level0 col11\" >10%</th>\n",
       "      <th id=\"T_93e06_level0_col12\" class=\"col_heading level0 col12\" >25%</th>\n",
       "      <th id=\"T_93e06_level0_col13\" class=\"col_heading level0 col13\" >50%</th>\n",
       "      <th id=\"T_93e06_level0_col14\" class=\"col_heading level0 col14\" >75%</th>\n",
       "      <th id=\"T_93e06_level0_col15\" class=\"col_heading level0 col15\" >90%</th>\n",
       "      <th id=\"T_93e06_level0_col16\" class=\"col_heading level0 col16\" >Max</th>\n",
       "    </tr>\n",
       "  </thead>\n",
       "  <tbody>\n",
       "    <tr>\n",
       "      <th id=\"T_93e06_level0_row0\" class=\"row_heading level0 row0\" >MPG</th>\n",
       "      <td id=\"T_93e06_row0_col0\" class=\"data row0 col0\" >398</td>\n",
       "      <td id=\"T_93e06_row0_col1\" class=\"data row0 col1\" >0</td>\n",
       "      <td id=\"T_93e06_row0_col2\" class=\"data row0 col2\" >0.0%</td>\n",
       "      <td id=\"T_93e06_row0_col3\" class=\"data row0 col3\" >0</td>\n",
       "      <td id=\"T_93e06_row0_col4\" class=\"data row0 col4\" >0.0%</td>\n",
       "      <td id=\"T_93e06_row0_col5\" class=\"data row0 col5\" >23.5</td>\n",
       "      <td id=\"T_93e06_row0_col6\" class=\"data row0 col6\" >7.8</td>\n",
       "      <td id=\"T_93e06_row0_col7\" class=\"data row0 col7\" >0.3</td>\n",
       "      <td id=\"T_93e06_row0_col8\" class=\"data row0 col8\" >0.5</td>\n",
       "      <td id=\"T_93e06_row0_col9\" class=\"data row0 col9\" >-0.5</td>\n",
       "      <td id=\"T_93e06_row0_col10\" class=\"data row0 col10\" >9.0</td>\n",
       "      <td id=\"T_93e06_row0_col11\" class=\"data row0 col11\" >14.0</td>\n",
       "      <td id=\"T_93e06_row0_col12\" class=\"data row0 col12\" >17.5</td>\n",
       "      <td id=\"T_93e06_row0_col13\" class=\"data row0 col13\" >23.0</td>\n",
       "      <td id=\"T_93e06_row0_col14\" class=\"data row0 col14\" >29.0</td>\n",
       "      <td id=\"T_93e06_row0_col15\" class=\"data row0 col15\" >34.3</td>\n",
       "      <td id=\"T_93e06_row0_col16\" class=\"data row0 col16\" >46.6</td>\n",
       "    </tr>\n",
       "    <tr>\n",
       "      <th id=\"T_93e06_level0_row1\" class=\"row_heading level0 row1\" >Cylinders</th>\n",
       "      <td id=\"T_93e06_row1_col0\" class=\"data row1 col0\" >398</td>\n",
       "      <td id=\"T_93e06_row1_col1\" class=\"data row1 col1\" >0</td>\n",
       "      <td id=\"T_93e06_row1_col2\" class=\"data row1 col2\" >0.0%</td>\n",
       "      <td id=\"T_93e06_row1_col3\" class=\"data row1 col3\" >0</td>\n",
       "      <td id=\"T_93e06_row1_col4\" class=\"data row1 col4\" >0.0%</td>\n",
       "      <td id=\"T_93e06_row1_col5\" class=\"data row1 col5\" >5.5</td>\n",
       "      <td id=\"T_93e06_row1_col6\" class=\"data row1 col6\" >1.7</td>\n",
       "      <td id=\"T_93e06_row1_col7\" class=\"data row1 col7\" >0.3</td>\n",
       "      <td id=\"T_93e06_row1_col8\" class=\"data row1 col8\" >0.5</td>\n",
       "      <td id=\"T_93e06_row1_col9\" class=\"data row1 col9\" >-1.4</td>\n",
       "      <td id=\"T_93e06_row1_col10\" class=\"data row1 col10\" >3.0</td>\n",
       "      <td id=\"T_93e06_row1_col11\" class=\"data row1 col11\" >4.0</td>\n",
       "      <td id=\"T_93e06_row1_col12\" class=\"data row1 col12\" >4.0</td>\n",
       "      <td id=\"T_93e06_row1_col13\" class=\"data row1 col13\" >4.0</td>\n",
       "      <td id=\"T_93e06_row1_col14\" class=\"data row1 col14\" >8.0</td>\n",
       "      <td id=\"T_93e06_row1_col15\" class=\"data row1 col15\" >8.0</td>\n",
       "      <td id=\"T_93e06_row1_col16\" class=\"data row1 col16\" >8.0</td>\n",
       "    </tr>\n",
       "    <tr>\n",
       "      <th id=\"T_93e06_level0_row2\" class=\"row_heading level0 row2\" >Displacement</th>\n",
       "      <td id=\"T_93e06_row2_col0\" class=\"data row2 col0\" >398</td>\n",
       "      <td id=\"T_93e06_row2_col1\" class=\"data row2 col1\" >0</td>\n",
       "      <td id=\"T_93e06_row2_col2\" class=\"data row2 col2\" >0.0%</td>\n",
       "      <td id=\"T_93e06_row2_col3\" class=\"data row2 col3\" >0</td>\n",
       "      <td id=\"T_93e06_row2_col4\" class=\"data row2 col4\" >0.0%</td>\n",
       "      <td id=\"T_93e06_row2_col5\" class=\"data row2 col5\" >193.4</td>\n",
       "      <td id=\"T_93e06_row2_col6\" class=\"data row2 col6\" >104.3</td>\n",
       "      <td id=\"T_93e06_row2_col7\" class=\"data row2 col7\" >0.5</td>\n",
       "      <td id=\"T_93e06_row2_col8\" class=\"data row2 col8\" >0.7</td>\n",
       "      <td id=\"T_93e06_row2_col9\" class=\"data row2 col9\" >-0.8</td>\n",
       "      <td id=\"T_93e06_row2_col10\" class=\"data row2 col10\" >68.0</td>\n",
       "      <td id=\"T_93e06_row2_col11\" class=\"data row2 col11\" >90.0</td>\n",
       "      <td id=\"T_93e06_row2_col12\" class=\"data row2 col12\" >104.2</td>\n",
       "      <td id=\"T_93e06_row2_col13\" class=\"data row2 col13\" >148.5</td>\n",
       "      <td id=\"T_93e06_row2_col14\" class=\"data row2 col14\" >262.0</td>\n",
       "      <td id=\"T_93e06_row2_col15\" class=\"data row2 col15\" >350.0</td>\n",
       "      <td id=\"T_93e06_row2_col16\" class=\"data row2 col16\" >455.0</td>\n",
       "    </tr>\n",
       "    <tr>\n",
       "      <th id=\"T_93e06_level0_row3\" class=\"row_heading level0 row3\" >Horsepower</th>\n",
       "      <td id=\"T_93e06_row3_col0\" class=\"data row3 col0\" >392</td>\n",
       "      <td id=\"T_93e06_row3_col1\" class=\"data row3 col1\" >6</td>\n",
       "      <td id=\"T_93e06_row3_col2\" class=\"data row3 col2\" >2.0%</td>\n",
       "      <td id=\"T_93e06_row3_col3\" class=\"data row3 col3\" >0</td>\n",
       "      <td id=\"T_93e06_row3_col4\" class=\"data row3 col4\" >0.0%</td>\n",
       "      <td id=\"T_93e06_row3_col5\" class=\"data row3 col5\" >104.5</td>\n",
       "      <td id=\"T_93e06_row3_col6\" class=\"data row3 col6\" >38.5</td>\n",
       "      <td id=\"T_93e06_row3_col7\" class=\"data row3 col7\" >0.4</td>\n",
       "      <td id=\"T_93e06_row3_col8\" class=\"data row3 col8\" >1.1</td>\n",
       "      <td id=\"T_93e06_row3_col9\" class=\"data row3 col9\" >0.7</td>\n",
       "      <td id=\"T_93e06_row3_col10\" class=\"data row3 col10\" >46.0</td>\n",
       "      <td id=\"T_93e06_row3_col11\" class=\"data row3 col11\" >67.0</td>\n",
       "      <td id=\"T_93e06_row3_col12\" class=\"data row3 col12\" >75.0</td>\n",
       "      <td id=\"T_93e06_row3_col13\" class=\"data row3 col13\" >93.5</td>\n",
       "      <td id=\"T_93e06_row3_col14\" class=\"data row3 col14\" >126.0</td>\n",
       "      <td id=\"T_93e06_row3_col15\" class=\"data row3 col15\" >157.7</td>\n",
       "      <td id=\"T_93e06_row3_col16\" class=\"data row3 col16\" >230.0</td>\n",
       "    </tr>\n",
       "    <tr>\n",
       "      <th id=\"T_93e06_level0_row4\" class=\"row_heading level0 row4\" >Weight</th>\n",
       "      <td id=\"T_93e06_row4_col0\" class=\"data row4 col0\" >398</td>\n",
       "      <td id=\"T_93e06_row4_col1\" class=\"data row4 col1\" >0</td>\n",
       "      <td id=\"T_93e06_row4_col2\" class=\"data row4 col2\" >0.0%</td>\n",
       "      <td id=\"T_93e06_row4_col3\" class=\"data row4 col3\" >0</td>\n",
       "      <td id=\"T_93e06_row4_col4\" class=\"data row4 col4\" >0.0%</td>\n",
       "      <td id=\"T_93e06_row4_col5\" class=\"data row4 col5\" >2,970.4</td>\n",
       "      <td id=\"T_93e06_row4_col6\" class=\"data row4 col6\" >846.8</td>\n",
       "      <td id=\"T_93e06_row4_col7\" class=\"data row4 col7\" >0.3</td>\n",
       "      <td id=\"T_93e06_row4_col8\" class=\"data row4 col8\" >0.5</td>\n",
       "      <td id=\"T_93e06_row4_col9\" class=\"data row4 col9\" >-0.8</td>\n",
       "      <td id=\"T_93e06_row4_col10\" class=\"data row4 col10\" >1,613.0</td>\n",
       "      <td id=\"T_93e06_row4_col11\" class=\"data row4 col11\" >1,988.5</td>\n",
       "      <td id=\"T_93e06_row4_col12\" class=\"data row4 col12\" >2,223.8</td>\n",
       "      <td id=\"T_93e06_row4_col13\" class=\"data row4 col13\" >2,803.5</td>\n",
       "      <td id=\"T_93e06_row4_col14\" class=\"data row4 col14\" >3,608.0</td>\n",
       "      <td id=\"T_93e06_row4_col15\" class=\"data row4 col15\" >4,275.2</td>\n",
       "      <td id=\"T_93e06_row4_col16\" class=\"data row4 col16\" >5,140.0</td>\n",
       "    </tr>\n",
       "    <tr>\n",
       "      <th id=\"T_93e06_level0_row5\" class=\"row_heading level0 row5\" >Acceleration</th>\n",
       "      <td id=\"T_93e06_row5_col0\" class=\"data row5 col0\" >398</td>\n",
       "      <td id=\"T_93e06_row5_col1\" class=\"data row5 col1\" >0</td>\n",
       "      <td id=\"T_93e06_row5_col2\" class=\"data row5 col2\" >0.0%</td>\n",
       "      <td id=\"T_93e06_row5_col3\" class=\"data row5 col3\" >0</td>\n",
       "      <td id=\"T_93e06_row5_col4\" class=\"data row5 col4\" >0.0%</td>\n",
       "      <td id=\"T_93e06_row5_col5\" class=\"data row5 col5\" >15.6</td>\n",
       "      <td id=\"T_93e06_row5_col6\" class=\"data row5 col6\" >2.8</td>\n",
       "      <td id=\"T_93e06_row5_col7\" class=\"data row5 col7\" >0.2</td>\n",
       "      <td id=\"T_93e06_row5_col8\" class=\"data row5 col8\" >0.3</td>\n",
       "      <td id=\"T_93e06_row5_col9\" class=\"data row5 col9\" >0.4</td>\n",
       "      <td id=\"T_93e06_row5_col10\" class=\"data row5 col10\" >8.0</td>\n",
       "      <td id=\"T_93e06_row5_col11\" class=\"data row5 col11\" >12.0</td>\n",
       "      <td id=\"T_93e06_row5_col12\" class=\"data row5 col12\" >13.8</td>\n",
       "      <td id=\"T_93e06_row5_col13\" class=\"data row5 col13\" >15.5</td>\n",
       "      <td id=\"T_93e06_row5_col14\" class=\"data row5 col14\" >17.2</td>\n",
       "      <td id=\"T_93e06_row5_col15\" class=\"data row5 col15\" >19.0</td>\n",
       "      <td id=\"T_93e06_row5_col16\" class=\"data row5 col16\" >24.8</td>\n",
       "    </tr>\n",
       "    <tr>\n",
       "      <th id=\"T_93e06_level0_row6\" class=\"row_heading level0 row6\" >Model Year</th>\n",
       "      <td id=\"T_93e06_row6_col0\" class=\"data row6 col0\" >398</td>\n",
       "      <td id=\"T_93e06_row6_col1\" class=\"data row6 col1\" >0</td>\n",
       "      <td id=\"T_93e06_row6_col2\" class=\"data row6 col2\" >0.0%</td>\n",
       "      <td id=\"T_93e06_row6_col3\" class=\"data row6 col3\" >0</td>\n",
       "      <td id=\"T_93e06_row6_col4\" class=\"data row6 col4\" >0.0%</td>\n",
       "      <td id=\"T_93e06_row6_col5\" class=\"data row6 col5\" >76.0</td>\n",
       "      <td id=\"T_93e06_row6_col6\" class=\"data row6 col6\" >3.7</td>\n",
       "      <td id=\"T_93e06_row6_col7\" class=\"data row6 col7\" >0.1</td>\n",
       "      <td id=\"T_93e06_row6_col8\" class=\"data row6 col8\" >0.0</td>\n",
       "      <td id=\"T_93e06_row6_col9\" class=\"data row6 col9\" >-1.2</td>\n",
       "      <td id=\"T_93e06_row6_col10\" class=\"data row6 col10\" >70.0</td>\n",
       "      <td id=\"T_93e06_row6_col11\" class=\"data row6 col11\" >71.0</td>\n",
       "      <td id=\"T_93e06_row6_col12\" class=\"data row6 col12\" >73.0</td>\n",
       "      <td id=\"T_93e06_row6_col13\" class=\"data row6 col13\" >76.0</td>\n",
       "      <td id=\"T_93e06_row6_col14\" class=\"data row6 col14\" >79.0</td>\n",
       "      <td id=\"T_93e06_row6_col15\" class=\"data row6 col15\" >81.0</td>\n",
       "      <td id=\"T_93e06_row6_col16\" class=\"data row6 col16\" >82.0</td>\n",
       "    </tr>\n",
       "    <tr>\n",
       "      <th id=\"T_93e06_level0_row7\" class=\"row_heading level0 row7\" >Origin</th>\n",
       "      <td id=\"T_93e06_row7_col0\" class=\"data row7 col0\" >398</td>\n",
       "      <td id=\"T_93e06_row7_col1\" class=\"data row7 col1\" >0</td>\n",
       "      <td id=\"T_93e06_row7_col2\" class=\"data row7 col2\" >0.0%</td>\n",
       "      <td id=\"T_93e06_row7_col3\" class=\"data row7 col3\" >0</td>\n",
       "      <td id=\"T_93e06_row7_col4\" class=\"data row7 col4\" >0.0%</td>\n",
       "      <td id=\"T_93e06_row7_col5\" class=\"data row7 col5\" >1.6</td>\n",
       "      <td id=\"T_93e06_row7_col6\" class=\"data row7 col6\" >0.8</td>\n",
       "      <td id=\"T_93e06_row7_col7\" class=\"data row7 col7\" >0.5</td>\n",
       "      <td id=\"T_93e06_row7_col8\" class=\"data row7 col8\" >0.9</td>\n",
       "      <td id=\"T_93e06_row7_col9\" class=\"data row7 col9\" >-0.8</td>\n",
       "      <td id=\"T_93e06_row7_col10\" class=\"data row7 col10\" >1.0</td>\n",
       "      <td id=\"T_93e06_row7_col11\" class=\"data row7 col11\" >1.0</td>\n",
       "      <td id=\"T_93e06_row7_col12\" class=\"data row7 col12\" >1.0</td>\n",
       "      <td id=\"T_93e06_row7_col13\" class=\"data row7 col13\" >1.0</td>\n",
       "      <td id=\"T_93e06_row7_col14\" class=\"data row7 col14\" >2.0</td>\n",
       "      <td id=\"T_93e06_row7_col15\" class=\"data row7 col15\" >3.0</td>\n",
       "      <td id=\"T_93e06_row7_col16\" class=\"data row7 col16\" >3.0</td>\n",
       "    </tr>\n",
       "  </tbody>\n",
       "</table>\n"
      ],
      "text/plain": [
       "<pandas.io.formats.style.Styler at 0xffff4ebf4af0>"
      ]
     },
     "execution_count": 3,
     "metadata": {},
     "output_type": "execute_result"
    }
   ],
   "source": [
    "hlp.pandas.numeric_summary(auto_mpg)"
   ]
  },
  {
   "cell_type": "code",
   "execution_count": 4,
   "metadata": {},
   "outputs": [],
   "source": [
    "auto_mpg.dropna(inplace=True)\n",
    "assert auto_mpg.isna().sum().sum() == 0"
   ]
  },
  {
   "cell_type": "code",
   "execution_count": 5,
   "metadata": {},
   "outputs": [],
   "source": [
    "y_all = auto_mpg['MPG'].values\n",
    "X_all = auto_mpg.drop(columns='MPG')\n",
    "\n",
    "X_train, X_test, y_train, y_test = train_test_split(\n",
    "    X_all, y_all, train_size=0.8, random_state=1\n",
    ")\n",
    "assert len(X_train) + len(X_test) == len(X_all)\n",
    "assert len(y_train) + len(y_test) == len(y_all)\n",
    "assert len(X_train) == len(y_train)\n",
    "assert len(X_test) == len(y_test)"
   ]
  },
  {
   "cell_type": "code",
   "execution_count": 6,
   "metadata": {},
   "outputs": [],
   "source": [
    "numeric_column_names = [\n",
    "    'Displacement',\n",
    "    'Horsepower',\n",
    "    'Weight',\n",
    "    'Acceleration',\n",
    "    'Model Year',\n",
    "]\n",
    "non_numeric_column_names = [\n",
    "    'Cylinders',\n",
    "    'Origin'\n",
    "]\n",
    "\n",
    "numeric_pipeline = make_pipeline(StandardScaler())\n",
    "non_numeric_pipeline = make_pipeline(OneHotEncoder())\n",
    "\n",
    "def to_tensor(x):\n",
    "    return torch.from_numpy(x).float()\n",
    "\n",
    "pipeline = make_pipeline(\n",
    "    ColumnTransformer([\n",
    "        ('numeric', numeric_pipeline, numeric_column_names),\n",
    "        ('non_numeric', non_numeric_pipeline, non_numeric_column_names)\n",
    "    ]),\n",
    "    FunctionTransformer(func=to_tensor),\n",
    ")\n",
    "\n",
    "n_train = len(X_train)\n",
    "n_test = len(X_test)\n",
    "X_train = pipeline.fit_transform(X_train)\n",
    "X_test = pipeline.transform(X_test)\n",
    "assert n_train == len(X_train)\n",
    "assert n_test == len(X_test)\n",
    "\n",
    "y_train = to_tensor(y_train)\n",
    "y_test = to_tensor(y_test)"
   ]
  },
  {
   "cell_type": "code",
   "execution_count": 7,
   "metadata": {},
   "outputs": [
    {
     "name": "stderr",
     "output_type": "stream",
     "text": [
      "2022-12-05 01:54:02 - INFO     | Epoch 0: Training Loss=25.892; Validation Loss=24.068\n",
      "2022-12-05 01:54:02 - INFO     | Validation loss decreased (inf --> 24.067751). Caching model state.\n",
      "2022-12-05 01:54:02 - INFO     | Epoch 1: Training Loss=9.277; Validation Loss=8.503\n",
      "2022-12-05 01:54:02 - INFO     | Validation loss decreased (24.067751 --> 8.503127). Caching model state.\n",
      "2022-12-05 01:54:02 - INFO     | Epoch 2: Training Loss=8.536; Validation Loss=7.885\n",
      "2022-12-05 01:54:02 - INFO     | Validation loss decreased (8.503127 --> 7.885020). Caching model state.\n",
      "2022-12-05 01:54:02 - INFO     | Epoch 3: Training Loss=8.177; Validation Loss=7.599\n",
      "2022-12-05 01:54:02 - INFO     | Early Stopping counter: 1 out of 10\n",
      "2022-12-05 01:54:02 - INFO     | Epoch 4: Training Loss=7.974; Validation Loss=7.465\n",
      "2022-12-05 01:54:02 - INFO     | Early Stopping counter: 2 out of 10\n",
      "2022-12-05 01:54:02 - INFO     | Epoch 5: Training Loss=7.844; Validation Loss=7.407\n",
      "2022-12-05 01:54:02 - INFO     | Early Stopping counter: 3 out of 10\n",
      "2022-12-05 01:54:02 - INFO     | Epoch 6: Training Loss=7.756; Validation Loss=7.381\n",
      "2022-12-05 01:54:02 - INFO     | Validation loss decreased (7.885020 --> 7.381133). Caching model state.\n",
      "2022-12-05 01:54:02 - INFO     | Epoch 7: Training Loss=7.683; Validation Loss=7.360\n",
      "2022-12-05 01:54:02 - INFO     | Early Stopping counter: 1 out of 10\n",
      "2022-12-05 01:54:02 - INFO     | Epoch 8: Training Loss=7.616; Validation Loss=7.350\n",
      "2022-12-05 01:54:02 - INFO     | Early Stopping counter: 2 out of 10\n",
      "2022-12-05 01:54:02 - INFO     | Epoch 9: Training Loss=7.565; Validation Loss=7.349\n",
      "2022-12-05 01:54:02 - INFO     | Early Stopping counter: 3 out of 10\n",
      "2022-12-05 01:54:02 - INFO     | Epoch 10: Training Loss=7.519; Validation Loss=7.345\n",
      "2022-12-05 01:54:02 - INFO     | Early Stopping counter: 4 out of 10\n",
      "2022-12-05 01:54:02 - INFO     | Epoch 11: Training Loss=7.482; Validation Loss=7.359\n",
      "2022-12-05 01:54:02 - INFO     | Early Stopping counter: 5 out of 10\n",
      "2022-12-05 01:54:02 - INFO     | Epoch 12: Training Loss=7.455; Validation Loss=7.395\n",
      "2022-12-05 01:54:02 - INFO     | Early Stopping counter: 6 out of 10\n",
      "2022-12-05 01:54:02 - INFO     | Epoch 13: Training Loss=7.432; Validation Loss=7.419\n",
      "2022-12-05 01:54:02 - INFO     | Early Stopping counter: 7 out of 10\n",
      "2022-12-05 01:54:02 - INFO     | Epoch 14: Training Loss=7.409; Validation Loss=7.437\n",
      "2022-12-05 01:54:02 - INFO     | Early Stopping counter: 8 out of 10\n",
      "2022-12-05 01:54:02 - INFO     | Epoch 15: Training Loss=7.389; Validation Loss=7.458\n",
      "2022-12-05 01:54:02 - INFO     | Early Stopping counter: 9 out of 10\n",
      "2022-12-05 01:54:02 - INFO     | Epoch 16: Training Loss=7.372; Validation Loss=7.475\n",
      "2022-12-05 01:54:02 - INFO     | Early Stopping counter: 10 out of 10\n"
     ]
    }
   ],
   "source": [
    "import torch.nn as nn\n",
    "from source.domain.pytorch_wrappers import FullyConnectedNN\n",
    "\n",
    "network = FullyConnectedNN(\n",
    "    input_size=X_train.shape[1],\n",
    "    output_size=1,\n",
    "    hidden_units=[8, 4],\n",
    "    loss_func=nn.MSELoss(),\n",
    "    learning_rate=0.001,\n",
    "    early_stopping_delta=0.5,\n",
    "    verbose=True\n",
    ")\n",
    "\n",
    "loss_hist_train, loss_hist_validation = network.train(\n",
    "    X=X_train,\n",
    "    y=y_train,\n",
    "    batch_size=8,\n",
    "    random_seed=2,\n",
    ")"
   ]
  },
  {
   "cell_type": "code",
   "execution_count": 8,
   "metadata": {},
   "outputs": [
    {
     "data": {
      "text/plain": [
       "Text(0.5, 0, 'Epochs')"
      ]
     },
     "execution_count": 8,
     "metadata": {},
     "output_type": "execute_result"
    },
    {
     "data": {
      "image/png": "[encoded data removed]",
      "text/plain": [
       "<Figure size 1600x400 with 1 Axes>"
      ]
     },
     "metadata": {},
     "output_type": "display_data"
    }
   ],
   "source": [
    "import matplotlib.pyplot as plt\n",
    "fig = plt.figure(figsize=(16, 4))\n",
    "ax = fig.add_subplot(1, 2, 1)\n",
    "# ax.set_ylim(0, 50)\n",
    "plt.axvline(x=network._early_stopping.best_index)\n",
    "plt.plot(loss_hist_train, lw=4, label=\"Training Loss\")\n",
    "plt.plot(loss_hist_validation, lw=4, label=\"Validation Loss\")\n",
    "plt.legend(loc='lower left')\n",
    "ax.set_xlabel('Epochs', size=15)"
   ]
  },
  {
   "cell_type": "code",
   "execution_count": 9,
   "metadata": {},
   "outputs": [
    {
     "name": "stdout",
     "output_type": "stream",
     "text": [
      "Test MSE: 11.8697\n",
      "Test MAE: 2.3390\n"
     ]
    }
   ],
   "source": [
    "test_pred = network.predict(X=X_test)\n",
    "mse = nn.MSELoss()(test_pred, y_test).item()\n",
    "print(f'Test MSE: {mse:.4f}')\n",
    "print(f'Test MAE: {nn.L1Loss()(test_pred, y_test).item():.4f}')"
   ]
  },
  {
   "cell_type": "markdown",
   "metadata": {},
   "source": [
    "---"
   ]
  },
  {
   "cell_type": "markdown",
   "metadata": {},
   "source": [
    "# MNIST"
   ]
  },
  {
   "cell_type": "code",
   "execution_count": 10,
   "metadata": {},
   "outputs": [
    {
     "name": "stderr",
     "output_type": "stream",
     "text": [
      "/usr/local/lib/python3.9/site-packages/torchvision/io/image.py:13: UserWarning:\n",
      "\n",
      "Failed to load image Python extension: \n",
      "\n"
     ]
    },
    {
     "name": "stdout",
     "output_type": "stream",
     "text": [
      "(<PIL.Image.Image image mode=L size=28x28 at 0xFFFF980F0EE0>, 5)\n"
     ]
    }
   ],
   "source": [
    "import torchvision \n",
    "from torchvision import transforms \n",
    "\n",
    "image_path = './'\n",
    "transform = transforms.Compose([transforms.ToTensor()])\n",
    "\n",
    "mnist_train_dataset = torchvision.datasets.MNIST(\n",
    "    root=image_path, \n",
    "    train=True, \n",
    "    # transform=transform, \n",
    "    download=True\n",
    ")\n",
    "\n",
    "mnist_test_dataset = torchvision.datasets.MNIST(\n",
    "    root=image_path, \n",
    "    train=False, \n",
    "    #transform=transform, \n",
    "    download=False\n",
    ")\n",
    "\n",
    "assert isinstance(mnist_train_dataset, torch.utils.data.Dataset)\n",
    "example = next(iter(mnist_train_dataset))\n",
    "print(example)"
   ]
  },
  {
   "cell_type": "code",
   "execution_count": 11,
   "metadata": {},
   "outputs": [
    {
     "data": {
      "text/plain": [
       "torch.Size([60000, 28, 28])"
      ]
     },
     "execution_count": 11,
     "metadata": {},
     "output_type": "execute_result"
    }
   ],
   "source": [
    "mnist_train_dataset.data.shape"
   ]
  },
  {
   "cell_type": "code",
   "execution_count": 12,
   "metadata": {},
   "outputs": [
    {
     "data": {
      "text/plain": [
       "tensor([5, 0, 4, 1, 9, 2, 1, 3, 1, 4])"
      ]
     },
     "execution_count": 12,
     "metadata": {},
     "output_type": "execute_result"
    }
   ],
   "source": [
    "mnist_train_dataset.targets[0:10]"
   ]
  },
  {
   "cell_type": "code",
   "execution_count": 13,
   "metadata": {},
   "outputs": [
    {
     "data": {
      "text/plain": [
       "['0 - zero',\n",
       " '1 - one',\n",
       " '2 - two',\n",
       " '3 - three',\n",
       " '4 - four',\n",
       " '5 - five',\n",
       " '6 - six',\n",
       " '7 - seven',\n",
       " '8 - eight',\n",
       " '9 - nine']"
      ]
     },
     "execution_count": 13,
     "metadata": {},
     "output_type": "execute_result"
    }
   ],
   "source": [
    "mnist_train_dataset.classes"
   ]
  },
  {
   "cell_type": "code",
   "execution_count": 14,
   "metadata": {},
   "outputs": [
    {
     "data": {
      "image/png": "[encoded data removed]",
      "text/plain": [
       "<Figure size 1500x600 with 10 Axes>"
      ]
     },
     "metadata": {},
     "output_type": "display_data"
    }
   ],
   "source": [
    "from itertools import islice\n",
    "\n",
    "fig = plt.figure(figsize=(15, 6))\n",
    "for i, (image, label) in islice(enumerate(mnist_train_dataset), 10):\n",
    "    ax = fig.add_subplot(2, 5, i+1)\n",
    "    ax.set_xticks([]); ax.set_yticks([])\n",
    "    ax.imshow(image, cmap='gray_r')\n",
    "    ax.set_title(f'{label}', size=15)\n",
    "plt.show()"
   ]
  },
  {
   "cell_type": "code",
   "execution_count": 15,
   "metadata": {},
   "outputs": [],
   "source": [
    "def to_tensor(x):\n",
    "    return x.float()\n",
    "\n",
    "pipeline = make_pipeline(\n",
    "    FunctionTransformer(func=to_tensor),\n",
    ")\n",
    "\n",
    "n_train = len(mnist_train_dataset.data)\n",
    "n_test = len(mnist_test_dataset.data)\n",
    "X_train = pipeline.fit_transform(mnist_train_dataset.data)\n",
    "X_test = pipeline.transform(mnist_test_dataset.data)\n",
    "assert n_train == len(X_train)\n",
    "assert n_test == len(X_test)\n",
    "\n",
    "# y_train = to_tensor(mnist_train_dataset.targets)\n",
    "# y_test = to_tensor(mnist_test_dataset.targets)\n",
    "y_train = mnist_train_dataset.targets.long()\n",
    "y_test = mnist_test_dataset.targets.long()\n",
    "\n",
    "assert len(X_train) == len(y_train)\n",
    "assert len(X_test) == len(y_test)"
   ]
  },
  {
   "cell_type": "code",
   "execution_count": 16,
   "metadata": {},
   "outputs": [
    {
     "data": {
      "text/plain": [
       "[Flatten(start_dim=1, end_dim=-1),\n",
       " Linear(in_features=784, out_features=32, bias=True),\n",
       " ReLU(),\n",
       " Linear(in_features=32, out_features=16, bias=True),\n",
       " ReLU(),\n",
       " Linear(in_features=16, out_features=10, bias=True)]"
      ]
     },
     "execution_count": 16,
     "metadata": {},
     "output_type": "execute_result"
    }
   ],
   "source": [
    "import torch.nn as nn\n",
    "from source.domain.pytorch_wrappers import FullyConnectedNN\n",
    "\n",
    "network = FullyConnectedNN(\n",
    "    input_size=mnist_train_dataset.data.shape[1] * mnist_train_dataset.data.shape[2],\n",
    "    output_size=10,\n",
    "    hidden_units=[32, 16],\n",
    "    loss_func=nn.CrossEntropyLoss(),\n",
    "    optimizer_func=torch.optim.Adam,\n",
    "    learning_rate=0.001,\n",
    "    initial_layers=[nn.Flatten()],\n",
    "    early_stopping_delta=0.005,\n",
    "    verbose=True\n",
    ")\n",
    "network.layers"
   ]
  },
  {
   "cell_type": "code",
   "execution_count": 17,
   "metadata": {},
   "outputs": [
    {
     "name": "stderr",
     "output_type": "stream",
     "text": [
      "2022-12-05 01:54:08 - INFO     | Epoch 0: Training Loss=0.302; Validation Loss=0.336\n",
      "2022-12-05 01:54:08 - INFO     | Validation loss decreased (inf --> 0.336407). Caching model state.\n",
      "2022-12-05 01:54:13 - INFO     | Epoch 1: Training Loss=0.214; Validation Loss=0.245\n",
      "2022-12-05 01:54:13 - INFO     | Validation loss decreased (0.336407 --> 0.244836). Caching model state.\n",
      "2022-12-05 01:54:17 - INFO     | Epoch 2: Training Loss=0.232; Validation Loss=0.260\n",
      "2022-12-05 01:54:17 - INFO     | Early Stopping counter: 1 out of 10\n",
      "2022-12-05 01:54:20 - INFO     | Epoch 3: Training Loss=0.174; Validation Loss=0.226\n",
      "2022-12-05 01:54:20 - INFO     | Validation loss decreased (0.244836 --> 0.226011). Caching model state.\n",
      "2022-12-05 01:54:24 - INFO     | Epoch 4: Training Loss=0.174; Validation Loss=0.226\n",
      "2022-12-05 01:54:24 - INFO     | Early Stopping counter: 1 out of 10\n",
      "2022-12-05 01:54:29 - INFO     | Epoch 5: Training Loss=0.149; Validation Loss=0.223\n",
      "2022-12-05 01:54:29 - INFO     | Early Stopping counter: 2 out of 10\n",
      "2022-12-05 01:54:33 - INFO     | Epoch 6: Training Loss=0.147; Validation Loss=0.218\n",
      "2022-12-05 01:54:33 - INFO     | Validation loss decreased (0.226011 --> 0.217528). Caching model state.\n",
      "2022-12-05 01:54:37 - INFO     | Epoch 7: Training Loss=0.139; Validation Loss=0.207\n",
      "2022-12-05 01:54:37 - INFO     | Validation loss decreased (0.217528 --> 0.207449). Caching model state.\n",
      "2022-12-05 01:54:40 - INFO     | Epoch 8: Training Loss=0.135; Validation Loss=0.197\n",
      "2022-12-05 01:54:40 - INFO     | Validation loss decreased (0.207449 --> 0.197429). Caching model state.\n",
      "2022-12-05 01:54:44 - INFO     | Epoch 9: Training Loss=0.185; Validation Loss=0.260\n",
      "2022-12-05 01:54:44 - INFO     | Early Stopping counter: 1 out of 10\n",
      "2022-12-05 01:54:48 - INFO     | Epoch 10: Training Loss=0.130; Validation Loss=0.226\n",
      "2022-12-05 01:54:48 - INFO     | Early Stopping counter: 2 out of 10\n",
      "2022-12-05 01:54:52 - INFO     | Epoch 11: Training Loss=0.124; Validation Loss=0.231\n",
      "2022-12-05 01:54:52 - INFO     | Early Stopping counter: 3 out of 10\n",
      "2022-12-05 01:54:56 - INFO     | Epoch 12: Training Loss=0.133; Validation Loss=0.233\n",
      "2022-12-05 01:54:56 - INFO     | Early Stopping counter: 4 out of 10\n",
      "2022-12-05 01:54:59 - INFO     | Epoch 13: Training Loss=0.133; Validation Loss=0.240\n",
      "2022-12-05 01:54:59 - INFO     | Early Stopping counter: 5 out of 10\n",
      "2022-12-05 01:55:03 - INFO     | Epoch 14: Training Loss=0.140; Validation Loss=0.272\n",
      "2022-12-05 01:55:03 - INFO     | Early Stopping counter: 6 out of 10\n",
      "2022-12-05 01:55:06 - INFO     | Epoch 15: Training Loss=0.144; Validation Loss=0.289\n",
      "2022-12-05 01:55:06 - INFO     | Early Stopping counter: 7 out of 10\n",
      "2022-12-05 01:55:09 - INFO     | Epoch 16: Training Loss=0.138; Validation Loss=0.269\n",
      "2022-12-05 01:55:09 - INFO     | Early Stopping counter: 8 out of 10\n",
      "2022-12-05 01:55:13 - INFO     | Epoch 17: Training Loss=0.139; Validation Loss=0.274\n",
      "2022-12-05 01:55:13 - INFO     | Early Stopping counter: 9 out of 10\n",
      "2022-12-05 01:55:18 - INFO     | Epoch 18: Training Loss=0.113; Validation Loss=0.254\n",
      "2022-12-05 01:55:18 - INFO     | Early Stopping counter: 10 out of 10\n"
     ]
    }
   ],
   "source": [
    "loss_hist_train, loss_hist_validation = network.train(\n",
    "    X=X_train,\n",
    "    y=y_train,\n",
    "    batch_size=8,\n",
    "    random_seed=2,\n",
    ")"
   ]
  },
  {
   "cell_type": "code",
   "execution_count": 18,
   "metadata": {},
   "outputs": [
    {
     "data": {
      "text/plain": [
       "Text(0.5, 0, 'Epochs')"
      ]
     },
     "execution_count": 18,
     "metadata": {},
     "output_type": "execute_result"
    },
    {
     "data": {
      "image/png": "[encoded data removed]",
      "text/plain": [
       "<Figure size 1600x400 with 1 Axes>"
      ]
     },
     "metadata": {},
     "output_type": "display_data"
    }
   ],
   "source": [
    "import matplotlib.pyplot as plt\n",
    "fig = plt.figure(figsize=(16, 4))\n",
    "ax = fig.add_subplot(1, 2, 1)\n",
    "# ax.set_ylim(0, 50)\n",
    "plt.axvline(x=network._early_stopping.best_index)\n",
    "plt.plot(loss_hist_train, lw=4, label=\"Training Loss\")\n",
    "plt.plot(loss_hist_validation, lw=4, label=\"Validation Loss\")\n",
    "plt.legend(loc='lower left')\n",
    "ax.set_xlabel('Epochs', size=15)"
   ]
  },
  {
   "cell_type": "code",
   "execution_count": 19,
   "metadata": {},
   "outputs": [
    {
     "name": "stdout",
     "output_type": "stream",
     "text": [
      "Traing accuracy: 0.9680\n"
     ]
    }
   ],
   "source": [
    "train_pred = network.predict(X=X_train)\n",
    "is_correct = (torch.argmax(train_pred, dim=1) == y_train).float()\n",
    "print(f'Traing accuracy: {is_correct.mean():.4f}') "
   ]
  },
  {
   "cell_type": "code",
   "execution_count": 20,
   "metadata": {},
   "outputs": [
    {
     "name": "stdout",
     "output_type": "stream",
     "text": [
      "Test accuracy: 0.9541\n"
     ]
    }
   ],
   "source": [
    "test_pred = network.predict(X=X_test)\n",
    "is_correct = (torch.argmax(test_pred, dim=1) == y_test).float()\n",
    "print(f'Test accuracy: {is_correct.mean():.4f}') "
   ]
  },
  {
   "cell_type": "markdown",
   "metadata": {},
   "source": [
    "---"
   ]
  }
 ],
 "metadata": {
  "kernelspec": {
   "display_name": "Python 3.9.15 64-bit",
   "language": "python",
   "name": "python3"
  },
  "language_info": {
   "codemirror_mode": {
    "name": "ipython",
    "version": 3
   },
   "file_extension": ".py",
   "mimetype": "text/x-python",
   "name": "python",
   "nbconvert_exporter": "python",
   "pygments_lexer": "ipython3",
   "version": "3.9.15"
  },
  "orig_nbformat": 4,
  "vscode": {
   "interpreter": {
    "hash": "949777d72b0d2535278d3dc13498b2535136f6dfe0678499012e853ee9abcab1"
   }
  }
 },
 "nbformat": 4,
 "nbformat_minor": 2
}
