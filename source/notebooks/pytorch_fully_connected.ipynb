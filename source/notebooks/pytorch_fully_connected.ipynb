{
 "cells": [
  {
   "cell_type": "code",
   "execution_count": null,
   "metadata": {},
   "outputs": [],
   "source": [
    "from sklearn.model_selection import train_test_split\n",
    "from sklearn.preprocessing import StandardScaler, OneHotEncoder, FunctionTransformer\n",
    "from sklearn.pipeline import make_pipeline\n",
    "from sklearn.compose import ColumnTransformer\n",
    "import torch\n"
   ]
  },
  {
   "cell_type": "code",
   "execution_count": null,
   "metadata": {},
   "outputs": [],
   "source": [
    "%run \"/code/source/notebooks/notebook_settings.py\"\n",
    "import source.config.config as config"
   ]
  },
  {
   "cell_type": "code",
   "execution_count": null,
   "metadata": {},
   "outputs": [],
   "source": [
    "hlp.pandas.numeric_summary(auto_mpg)"
   ]
  },
  {
   "cell_type": "code",
   "execution_count": null,
   "metadata": {},
   "outputs": [],
   "source": [
    "with hlp.utility.Timer(\"Loading Data\"):\n",
    "    file_path = os.path.join(config.dir_data_raw(), 'auto_mpg.pkl')\n",
    "    auto_mpg = pd.pandas.read_pickle(file_path)"
   ]
  },
  {
   "cell_type": "code",
   "execution_count": null,
   "metadata": {},
   "outputs": [],
   "source": [
    "import pandas as pd\n",
    "output_file = os.path.join(config.dir_data_raw(), 'auto_mpg.pkl')\n",
    "df = pd.read_pickle(output_file)\n",
    "logging.info(\n",
    "    f\"Dropping {df.apply(lambda row: row.isna().any(), axis=1).sum()} rows containing NAs.\"\n",
    ")\n",
    "df.dropna(inplace=True)\n",
    "assert df.isna().sum().sum() == 0\n",
    "\n",
    "y_all = df['MPG'].values\n",
    "X_all = df.drop(columns='MPG')\n",
    "\n",
    "X_train, X_test, y_train, y_test = train_test_split(\n",
    "    X_all, y_all, train_size=0.8, random_state=1\n",
    ")\n",
    "assert len(X_train) + len(X_test) == len(X_all)\n",
    "assert len(y_train) + len(y_test) == len(y_all)\n",
    "assert len(X_train) == len(y_train)\n",
    "assert len(X_test) == len(y_test)\n",
    "\n",
    "numeric_column_names = [\n",
    "    'Displacement',\n",
    "    'Horsepower',\n",
    "    'Weight',\n",
    "    'Acceleration',\n",
    "    'Model Year',\n",
    "]\n",
    "non_numeric_column_names = [\n",
    "    'Cylinders',\n",
    "    'Origin'\n",
    "]\n",
    "\n",
    "numeric_pipeline = make_pipeline(StandardScaler())\n",
    "non_numeric_pipeline = make_pipeline(OneHotEncoder())\n",
    "\n",
    "def to_tensor(x):\n",
    "    return torch.from_numpy(x).float()\n",
    "\n",
    "pipeline = make_pipeline(\n",
    "    ColumnTransformer([\n",
    "        ('numeric', numeric_pipeline, numeric_column_names),\n",
    "        ('non_numeric', non_numeric_pipeline, non_numeric_column_names)\n",
    "    ]),\n",
    "    FunctionTransformer(func=to_tensor),\n",
    ")\n",
    "\n",
    "n_train = len(X_train)\n",
    "n_test = len(X_test)\n",
    "X_train = pipeline.fit_transform(X_train)\n",
    "X_test = pipeline.transform(X_test)\n",
    "assert n_train == len(X_train)\n",
    "assert n_test == len(X_test)\n",
    "\n",
    "y_train = to_tensor(y_train)\n",
    "y_test = to_tensor(y_test)\n",
    "\n",
    "import torch.nn as nn\n",
    "from source.domain.pytorch_wrappers import FullyConnectedNN\n",
    "\n",
    "network = FullyConnectedNN(\n",
    "    input_size=X_train.shape[1],\n",
    "    output_size=1,\n",
    "    hidden_units=[8, 4],\n",
    "    loss_func=nn.MSELoss(),\n",
    "    learning_rate=0.001\n",
    ")\n",
    "\n",
    "loss_hist_train, loss_hist_validation = network.train(\n",
    "    X=X_train,\n",
    "    y=y_train,\n",
    "    batch_size=8,\n",
    "    random_seed=2\n",
    ")\n",
    "# import matplotlib.pyplot as plt\n",
    "# fig = plt.figure(figsize=(16, 4))\n",
    "# ax = fig.add_subplot(1, 2, 1)\n",
    "# plt.plot(loss_hist_train[0:20], lw=4)\n",
    "# plt.plot(loss_hist_validation[0:20], lw=4)\n",
    "# plt.legend(['Train loss', 'Validation loss'], fontsize=15)\n",
    "# ax.set_xlabel('Epochs', size=15)\n",
    "\n",
    "test_pred = network.predict(X=X_test)\n",
    "mse = nn.MSELoss()(test_pred, y_test).item()\n",
    "print(f'Test MSE: {mse:.4f}')\n",
    "print(f'Test MAE: {nn.L1Loss()(test_pred, y_test).item():.4f}')"
   ]
  }
 ],
 "metadata": {
  "kernelspec": {
   "display_name": "Python 3.9.15 64-bit",
   "language": "python",
   "name": "python3"
  },
  "language_info": {
   "name": "python",
   "version": "3.9.15"
  },
  "orig_nbformat": 4,
  "vscode": {
   "interpreter": {
    "hash": "949777d72b0d2535278d3dc13498b2535136f6dfe0678499012e853ee9abcab1"
   }
  }
 },
 "nbformat": 4,
 "nbformat_minor": 2
}
