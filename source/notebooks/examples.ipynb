{
 "cells": [
  {
   "cell_type": "code",
   "execution_count": 1,
   "metadata": {},
   "outputs": [
    {
     "data": {
      "text/plain": [
       "True"
      ]
     },
     "execution_count": 1,
     "metadata": {},
     "output_type": "execute_result"
    }
   ],
   "source": [
    "import torch as t\n",
    "t.cuda.is_available()"
   ]
  },
  {
   "cell_type": "code",
   "execution_count": 2,
   "metadata": {},
   "outputs": [],
   "source": [
    "import matplotlib.pyplot as plt\n",
    "from sklearn.datasets import fetch_openml"
   ]
  },
  {
   "cell_type": "code",
   "execution_count": 3,
   "metadata": {},
   "outputs": [],
   "source": [
    "X, y = fetch_openml('mnist_784', version=1, return_X_y=True, parser='auto')\n",
    "X = X.values\n",
    "y = y.astype(int).values"
   ]
  },
  {
   "cell_type": "code",
   "execution_count": 4,
   "metadata": {},
   "outputs": [
    {
     "data": {
      "image/png": "[encoded data removed]",
      "text/plain": [
       "<Figure size 640x480 with 10 Axes>"
      ]
     },
     "metadata": {},
     "output_type": "display_data"
    }
   ],
   "source": [
    "fig, ax = plt.subplots(nrows=2, ncols=5, sharex=True, sharey=True)\n",
    "ax = ax.flatten()\n",
    "for i in range(10):\n",
    "    img = X[y == i][0].reshape(28, 28)\n",
    "    ax[i].imshow(img, cmap='Greys')\n",
    "\n",
    "ax[0].set_xticks([])\n",
    "ax[0].set_yticks([])\n",
    "plt.tight_layout()\n",
    "#plt.savefig('figures/11_4.png', dpi=300)\n",
    "plt.show()"
   ]
  },
  {
   "cell_type": "code",
   "execution_count": 5,
   "metadata": {},
   "outputs": [
    {
     "data": {
      "text/plain": [
       "array([[-1., -1., -1., ..., -1., -1., -1.],\n",
       "       [-1., -1., -1., ..., -1., -1., -1.],\n",
       "       [-1., -1., -1., ..., -1., -1., -1.],\n",
       "       ...,\n",
       "       [-1., -1., -1., ..., -1., -1., -1.],\n",
       "       [-1., -1., -1., ..., -1., -1., -1.],\n",
       "       [-1., -1., -1., ..., -1., -1., -1.]])"
      ]
     },
     "execution_count": 5,
     "metadata": {},
     "output_type": "execute_result"
    }
   ],
   "source": [
    "from sklearn.preprocessing import MinMaxScaler\n",
    "\n",
    "scaler = MinMaxScaler(feature_range=(-1, 1))\n",
    "X = scaler.fit_transform(X)\n",
    "X"
   ]
  },
  {
   "cell_type": "code",
   "execution_count": 6,
   "metadata": {},
   "outputs": [
    {
     "name": "stdout",
     "output_type": "stream",
     "text": [
      "Training set  : X-torch.Size([56000, 784]), y-torch.Size([56000])\n",
      "Validation set: X-torch.Size([7000, 784]), y-torch.Size([7000])\n",
      "Test set      : X-torch.Size([7000, 784]), y-torch.Size([7000])\n"
     ]
    }
   ],
   "source": [
    "import torch as t\n",
    "from sklearn.model_selection import train_test_split\n",
    "\n",
    "# 80% train; 10% validation; 10% test\n",
    "X_train, X_test, y_train, y_test = train_test_split(X, y, test_size=0.2, random_state=42)\n",
    "X_test, X_val, y_test, y_val = train_test_split(X_test, y_test, test_size=0.5, random_state=42)\n",
    "\n",
    "X_train = t.tensor(X_train, dtype=t.float32)\n",
    "y_train = t.tensor(y_train, dtype=t.long)\n",
    "X_val = t.tensor(X_val, dtype=t.float32)\n",
    "y_val = t.tensor(y_val, dtype=t.long)\n",
    "X_test = t.tensor(X_test, dtype=t.float32)\n",
    "y_test = t.tensor(y_test, dtype=t.long)\n",
    "\n",
    "print(f\"Training set  : X-{X_train.shape}, y-{y_train.shape}\")\n",
    "print(f\"Validation set: X-{X_val.shape}, y-{y_val.shape}\")\n",
    "print(f\"Test set      : X-{X_test.shape}, y-{y_test.shape}\")"
   ]
  },
  {
   "cell_type": "code",
   "execution_count": 15,
   "metadata": {},
   "outputs": [
    {
     "name": "stdout",
     "output_type": "stream",
     "text": [
      "Running on CUDA GPU\n"
     ]
    },
    {
     "data": {
      "text/plain": [
       "Net(\n",
       "  (fc1): Linear(in_features=784, out_features=500, bias=True)\n",
       "  (fc2): Linear(in_features=500, out_features=10, bias=True)\n",
       ")"
      ]
     },
     "execution_count": 15,
     "metadata": {},
     "output_type": "execute_result"
    }
   ],
   "source": [
    "import math\n",
    "import torch.nn as nn\n",
    "import torch.nn.functional as F\n",
    "import torch.optim as optim\n",
    "from torch.utils.data import DataLoader, TensorDataset\n",
    "import matplotlib.pyplot as plt\n",
    "\n",
    "class Net(nn.Module):\n",
    "    def __init__(self):\n",
    "        super(Net, self).__init__()\n",
    "        self.fc1 = nn.Linear(28 * 28, 500)\n",
    "        self.fc2 = nn.Linear(500, 10)\n",
    "\n",
    "    def forward(self, x):\n",
    "        x = x.view(-1, 28 * 28)\n",
    "        x = F.relu(self.fc1(x))\n",
    "        x = self.fc2(x)\n",
    "        return x\n",
    "\n",
    "net = Net()\n",
    "\n",
    "if t.cuda.is_available():\n",
    "    device = t.device(\"cuda\")\n",
    "    print(\"Running on CUDA GPU\")\n",
    "elif t.backends.mps.is_available():\n",
    "    device = t.device(\"mps\")\n",
    "    print(\"Running on MPS GPU\")\n",
    "else:\n",
    "    device = t.device(\"cpu\")\n",
    "    print(\"Running on CPU\")\n",
    "\n",
    "net.to(device)"
   ]
  },
  {
   "cell_type": "code",
   "execution_count": 27,
   "metadata": {},
   "outputs": [
    {
     "name": "stdout",
     "output_type": "stream",
     "text": [
      "Total batches: 875\n",
      "Log interval : every 43 batches\n"
     ]
    }
   ],
   "source": [
    "# loss_function = nn.CrossEntropyLoss()\n",
    "loss_function = F.cross_entropy\n",
    "\n",
    "train_loader = DataLoader(TensorDataset(X_train, y_train), batch_size=64, shuffle=True)\n",
    "val_loader = DataLoader(TensorDataset(X_val, y_val), batch_size=64, shuffle=False)\n",
    "\n",
    "total_batches = len(train_loader)\n",
    "print(f\"Total batches: {total_batches}\")\n",
    "log_interval = max(1, math.floor(total_batches / 20))\n",
    "print(f\"Log interval : every {log_interval} batches\")\n",
    "\n",
    "train_losses = []\n",
    "val_losses = []"
   ]
  },
  {
   "cell_type": "code",
   "execution_count": 30,
   "metadata": {},
   "outputs": [
    {
     "name": "stdout",
     "output_type": "stream",
     "text": [
      "[1, 1] avg training loss: 0.201, avg validation loss: 0.141\n",
      "[1, 43] avg training loss: 0.158, avg validation loss: 0.209\n",
      "[1, 86] avg training loss: 0.163, avg validation loss: 0.069\n",
      "[1, 129] avg training loss: 0.116, avg validation loss: 0.155\n",
      "[1, 172] avg training loss: 0.132, avg validation loss: 0.072\n",
      "[1, 215] avg training loss: 0.130, avg validation loss: 0.086\n",
      "[1, 258] avg training loss: 0.120, avg validation loss: 0.087\n",
      "[1, 301] avg training loss: 0.106, avg validation loss: 0.086\n",
      "[1, 344] avg training loss: 0.107, avg validation loss: 0.037\n",
      "[1, 387] avg training loss: 0.086, avg validation loss: 0.049\n",
      "[1, 430] avg training loss: 0.119, avg validation loss: 0.163\n",
      "[1, 473] avg training loss: 0.105, avg validation loss: 0.062\n",
      "[1, 516] avg training loss: 0.101, avg validation loss: 0.085\n",
      "[1, 559] avg training loss: 0.139, avg validation loss: 0.014\n",
      "[1, 602] avg training loss: 0.104, avg validation loss: 0.034\n",
      "[1, 645] avg training loss: 0.115, avg validation loss: 0.114\n",
      "[1, 688] avg training loss: 0.104, avg validation loss: 0.043\n",
      "[1, 731] avg training loss: 0.124, avg validation loss: 0.029\n",
      "[1, 774] avg training loss: 0.100, avg validation loss: 0.174\n",
      "[1, 817] avg training loss: 0.098, avg validation loss: 0.173\n",
      "[1, 860] avg training loss: 0.084, avg validation loss: 0.010\n",
      "[1, 875] avg training loss: 0.123, avg validation loss: 0.067\n",
      "[2, 1] avg training loss: 0.043, avg validation loss: 0.040\n",
      "[2, 43] avg training loss: 0.080, avg validation loss: 0.012\n",
      "[2, 86] avg training loss: 0.086, avg validation loss: 0.263\n",
      "[2, 129] avg training loss: 0.093, avg validation loss: 0.087\n",
      "[2, 172] avg training loss: 0.085, avg validation loss: 0.041\n",
      "[2, 215] avg training loss: 0.090, avg validation loss: 0.197\n",
      "[2, 258] avg training loss: 0.085, avg validation loss: 0.078\n",
      "[2, 301] avg training loss: 0.087, avg validation loss: 0.041\n",
      "[2, 344] avg training loss: 0.094, avg validation loss: 0.053\n",
      "[2, 387] avg training loss: 0.106, avg validation loss: 0.035\n",
      "[2, 430] avg training loss: 0.110, avg validation loss: 0.115\n",
      "[2, 473] avg training loss: 0.081, avg validation loss: 0.057\n",
      "[2, 516] avg training loss: 0.085, avg validation loss: 0.106\n",
      "[2, 559] avg training loss: 0.095, avg validation loss: 0.067\n",
      "[2, 602] avg training loss: 0.095, avg validation loss: 0.020\n",
      "[2, 645] avg training loss: 0.095, avg validation loss: 0.097\n",
      "[2, 688] avg training loss: 0.095, avg validation loss: 0.154\n",
      "[2, 731] avg training loss: 0.079, avg validation loss: 0.021\n",
      "[2, 774] avg training loss: 0.088, avg validation loss: 0.038\n",
      "[2, 817] avg training loss: 0.096, avg validation loss: 0.080\n",
      "[2, 860] avg training loss: 0.105, avg validation loss: 0.019\n",
      "[2, 875] avg training loss: 0.102, avg validation loss: 0.131\n",
      "[3, 1] avg training loss: 0.118, avg validation loss: 0.112\n",
      "[3, 43] avg training loss: 0.081, avg validation loss: 0.113\n",
      "[3, 86] avg training loss: 0.071, avg validation loss: 0.021\n",
      "[3, 129] avg training loss: 0.096, avg validation loss: 0.036\n",
      "[3, 172] avg training loss: 0.062, avg validation loss: 0.055\n",
      "[3, 215] avg training loss: 0.063, avg validation loss: 0.038\n",
      "[3, 258] avg training loss: 0.082, avg validation loss: 0.170\n",
      "[3, 301] avg training loss: 0.079, avg validation loss: 0.066\n",
      "[3, 344] avg training loss: 0.105, avg validation loss: 0.443\n",
      "[3, 387] avg training loss: 0.091, avg validation loss: 0.010\n",
      "[3, 430] avg training loss: 0.074, avg validation loss: 0.057\n",
      "[3, 473] avg training loss: 0.073, avg validation loss: 0.112\n",
      "[3, 516] avg training loss: 0.095, avg validation loss: 0.102\n",
      "[3, 559] avg training loss: 0.071, avg validation loss: 0.050\n",
      "[3, 602] avg training loss: 0.089, avg validation loss: 0.079\n",
      "[3, 645] avg training loss: 0.081, avg validation loss: 0.055\n",
      "[3, 688] avg training loss: 0.083, avg validation loss: 0.017\n",
      "[3, 731] avg training loss: 0.088, avg validation loss: 0.116\n",
      "[3, 774] avg training loss: 0.072, avg validation loss: 0.066\n",
      "[3, 817] avg training loss: 0.081, avg validation loss: 0.043\n",
      "[3, 860] avg training loss: 0.096, avg validation loss: 0.077\n",
      "[3, 875] avg training loss: 0.086, avg validation loss: 0.023\n",
      "[4, 1] avg training loss: 0.046, avg validation loss: 0.041\n",
      "[4, 43] avg training loss: 0.064, avg validation loss: 0.032\n",
      "[4, 86] avg training loss: 0.088, avg validation loss: 0.065\n",
      "[4, 129] avg training loss: 0.051, avg validation loss: 0.016\n",
      "[4, 172] avg training loss: 0.079, avg validation loss: 0.141\n",
      "[4, 215] avg training loss: 0.076, avg validation loss: 0.106\n",
      "[4, 258] avg training loss: 0.082, avg validation loss: 0.049\n",
      "[4, 301] avg training loss: 0.076, avg validation loss: 0.026\n",
      "[4, 344] avg training loss: 0.072, avg validation loss: 0.191\n",
      "[4, 387] avg training loss: 0.083, avg validation loss: 0.009\n",
      "[4, 430] avg training loss: 0.070, avg validation loss: 0.012\n",
      "[4, 473] avg training loss: 0.075, avg validation loss: 0.044\n",
      "[4, 516] avg training loss: 0.081, avg validation loss: 0.224\n",
      "[4, 559] avg training loss: 0.078, avg validation loss: 0.022\n",
      "[4, 602] avg training loss: 0.069, avg validation loss: 0.075\n",
      "[4, 645] avg training loss: 0.078, avg validation loss: 0.057\n",
      "[4, 688] avg training loss: 0.083, avg validation loss: 0.070\n",
      "[4, 731] avg training loss: 0.084, avg validation loss: 0.042\n",
      "[4, 774] avg training loss: 0.074, avg validation loss: 0.031\n",
      "[4, 817] avg training loss: 0.064, avg validation loss: 0.022\n",
      "[4, 860] avg training loss: 0.084, avg validation loss: 0.076\n",
      "[4, 875] avg training loss: 0.069, avg validation loss: 0.007\n",
      "[5, 1] avg training loss: 0.044, avg validation loss: 0.043\n",
      "[5, 43] avg training loss: 0.059, avg validation loss: 0.024\n",
      "[5, 86] avg training loss: 0.067, avg validation loss: 0.088\n",
      "[5, 129] avg training loss: 0.069, avg validation loss: 0.018\n",
      "[5, 172] avg training loss: 0.074, avg validation loss: 0.035\n",
      "[5, 215] avg training loss: 0.067, avg validation loss: 0.020\n",
      "[5, 258] avg training loss: 0.065, avg validation loss: 0.107\n",
      "[5, 301] avg training loss: 0.072, avg validation loss: 0.152\n",
      "[5, 344] avg training loss: 0.066, avg validation loss: 0.063\n",
      "[5, 387] avg training loss: 0.081, avg validation loss: 0.021\n",
      "[5, 430] avg training loss: 0.068, avg validation loss: 0.034\n",
      "[5, 473] avg training loss: 0.074, avg validation loss: 0.060\n",
      "[5, 516] avg training loss: 0.084, avg validation loss: 0.043\n",
      "[5, 559] avg training loss: 0.066, avg validation loss: 0.088\n",
      "[5, 602] avg training loss: 0.067, avg validation loss: 0.024\n",
      "[5, 645] avg training loss: 0.067, avg validation loss: 0.120\n",
      "[5, 688] avg training loss: 0.058, avg validation loss: 0.010\n",
      "[5, 731] avg training loss: 0.075, avg validation loss: 0.046\n",
      "[5, 774] avg training loss: 0.073, avg validation loss: 0.040\n",
      "[5, 817] avg training loss: 0.078, avg validation loss: 0.006\n",
      "[5, 860] avg training loss: 0.062, avg validation loss: 0.116\n",
      "[5, 875] avg training loss: 0.068, avg validation loss: 0.077\n",
      "Finished Training\n"
     ]
    }
   ],
   "source": [
    "optimizer = optim.Adam(net.parameters(), lr=0.001)\n",
    "\n",
    "for epoch in range(5):  # loop over the dataset multiple times\n",
    "\n",
    "    running_training_loss = 0\n",
    "    total_train_samples = 0\n",
    "    net.train()  # Set the network to training mode\n",
    "    for i, data in enumerate(train_loader, 0):\n",
    "        inputs, labels = data[0].to(device), data[1].to(device)\n",
    "\n",
    "        # Zero the parameter gradients\n",
    "        optimizer.zero_grad()\n",
    "        # Forward pass\n",
    "        outputs = net(inputs)\n",
    "        loss = loss_function(outputs, labels)\n",
    "        # Backward pass and optimize\n",
    "        loss.backward()\n",
    "        optimizer.step()\n",
    "\n",
    "        # weighted average of the training loss\n",
    "        running_training_loss += loss.item() * inputs.shape[0]\n",
    "        total_train_samples += inputs.shape[0]\n",
    "        # Log at the specified interval\n",
    "        if (i + 1) % log_interval == 0 or i == 0 or i == total_batches - 1:\n",
    "            # Training loss\n",
    "            avg_training_loss = running_training_loss / total_train_samples\n",
    "            train_losses.append(avg_training_loss)\n",
    "            # Validation loss\n",
    "            net.eval()  # Set the network to evaluation mode\n",
    "            # weighted average of the validation loss\n",
    "            running_val_loss = 0\n",
    "            total_val_samples = 0\n",
    "            with t.no_grad():\n",
    "                for val_data in val_loader:\n",
    "                    inputs, labels = data[0].to(device), data[1].to(device)\n",
    "                    \n",
    "                    outputs = net(inputs)\n",
    "                    val_loss = loss_function(outputs, labels)\n",
    "                    running_val_loss += val_loss.item() * inputs.shape[0]\n",
    "                    total_val_samples += inputs.shape[0]\n",
    "            avg_val_loss = running_val_loss / total_val_samples\n",
    "            val_losses.append(avg_val_loss)\n",
    "            net.train()  # Set the network back to training mode\n",
    "\n",
    "            print(f'[{epoch + 1}, {i + 1}] avg training loss: {avg_training_loss:.3f}, avg validation loss: {avg_val_loss:.3f}')\n",
    "            running_training_loss = 0\n",
    "            total_train_samples = 0\n",
    "\n",
    "print('Finished Training')"
   ]
  },
  {
   "cell_type": "code",
   "execution_count": 31,
   "metadata": {},
   "outputs": [
    {
     "data": {
      "image/png": "[encoded data removed]",
      "text/plain": [
       "<Figure size 640x480 with 1 Axes>"
      ]
     },
     "metadata": {},
     "output_type": "display_data"
    }
   ],
   "source": [
    "# Plot the training and validation losses\n",
    "plt.plot(train_losses, label='Training loss')\n",
    "plt.plot(val_losses, label='Validation loss')\n",
    "plt.xlabel('Iterations')\n",
    "plt.ylabel('Loss')\n",
    "plt.title('Training and Validation Loss')\n",
    "plt.legend()\n",
    "plt.show()"
   ]
  },
  {
   "cell_type": "code",
   "execution_count": 32,
   "metadata": {},
   "outputs": [
    {
     "name": "stdout",
     "output_type": "stream",
     "text": [
      "avg test loss: 0.077\n"
     ]
    }
   ],
   "source": [
    "# test loss on the test set\n",
    "test_loader = DataLoader(TensorDataset(X_test, y_test), batch_size=10000, shuffle=False)\n",
    "running_test_loss = 0\n",
    "total_test_samples = 0\n",
    "with t.no_grad():\n",
    "    for test_data in test_loader:\n",
    "        inputs, labels = data[0].to(device), data[1].to(device)\n",
    "        \n",
    "        outputs = net(inputs)\n",
    "        test_loss = loss_function(outputs, labels)\n",
    "        running_test_loss += test_loss.item() * inputs.shape[0]\n",
    "        total_test_samples += inputs.shape[0]\n",
    "avg_test_loss = running_test_loss / total_test_samples\n",
    "print(f'avg test loss: {avg_test_loss:.3f}')\n"
   ]
  },
  {
   "cell_type": "code",
   "execution_count": 35,
   "metadata": {},
   "outputs": [
    {
     "data": {
      "text/plain": [
       "array([5, 7, 5, 1, 1, 0, 2, 3, 3, 3])"
      ]
     },
     "execution_count": 35,
     "metadata": {},
     "output_type": "execute_result"
    }
   ],
   "source": [
    "# generate predictions on the test set without loader\n",
    "net.eval()\n",
    "with t.no_grad():\n",
    "    outputs = net(X_test.to(device))\n",
    "    _, predicted = t.max(outputs.data, 1)\n",
    " \n",
    "predicted = predicted.cpu().numpy()\n",
    "predicted[0:10]"
   ]
  },
  {
   "cell_type": "code",
   "execution_count": 41,
   "metadata": {},
   "outputs": [
    {
     "data": {
      "text/plain": [
       "tensor([5, 7, 5, 8, 1, 0, 2, 3, 3, 3])"
      ]
     },
     "execution_count": 41,
     "metadata": {},
     "output_type": "execute_result"
    }
   ],
   "source": [
    "y_test[0:10]"
   ]
  },
  {
   "cell_type": "code",
   "execution_count": 36,
   "metadata": {},
   "outputs": [
    {
     "data": {
      "image/png": "[encoded data removed]",
      "text/plain": [
       "<Figure size 640x480 with 10 Axes>"
      ]
     },
     "metadata": {},
     "output_type": "display_data"
    }
   ],
   "source": [
    "# plot the first 10 test images with their predicted labels\n",
    "fig, ax = plt.subplots(nrows=2, ncols=5, sharex=True, sharey=True)\n",
    "ax = ax.flatten()\n",
    "for i in range(10):\n",
    "    img = X_test[i].cpu().numpy().reshape(28, 28)\n",
    "    ax[i].imshow(img, cmap='Greys')\n",
    "    ax[i].set_title(f'{predicted[i]}')\n",
    "ax[0].set_xticks([])\n",
    "ax[0].set_yticks([])\n",
    "plt.tight_layout()\n",
    "#plt.savefig('figures/11_5.png', dpi=300)\n",
    "plt.show()\n"
   ]
  }
 ],
 "metadata": {
  "kernelspec": {
   "display_name": "Python 3",
   "language": "python",
   "name": "python3"
  },
  "language_info": {
   "codemirror_mode": {
    "name": "ipython",
    "version": 3
   },
   "file_extension": ".py",
   "mimetype": "text/x-python",
   "name": "python",
   "nbconvert_exporter": "python",
   "pygments_lexer": "ipython3",
   "version": "3.11.7"
  }
 },
 "nbformat": 4,
 "nbformat_minor": 2
}
