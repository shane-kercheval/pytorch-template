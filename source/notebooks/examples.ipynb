{
 "cells": [
  {
   "cell_type": "code",
   "execution_count": 2,
   "metadata": {},
   "outputs": [],
   "source": [
    "import matplotlib.pyplot as plt\n",
    "from sklearn.datasets import fetch_openml"
   ]
  },
  {
   "cell_type": "code",
   "execution_count": 3,
   "metadata": {},
   "outputs": [],
   "source": [
    "X, y = fetch_openml('mnist_784', version=1, return_X_y=True, parser='auto')\n",
    "X = X.values\n",
    "y = y.astype(int).values"
   ]
  },
  {
   "cell_type": "code",
   "execution_count": 4,
   "metadata": {},
   "outputs": [
    {
     "data": {
      "image/png": "[encoded data removed]",
      "text/plain": [
       "<Figure size 640x480 with 10 Axes>"
      ]
     },
     "metadata": {},
     "output_type": "display_data"
    }
   ],
   "source": [
    "fig, ax = plt.subplots(nrows=2, ncols=5, sharex=True, sharey=True)\n",
    "ax = ax.flatten()\n",
    "for i in range(10):\n",
    "    img = X[y == i][0].reshape(28, 28)\n",
    "    ax[i].imshow(img, cmap='Greys')\n",
    "\n",
    "ax[0].set_xticks([])\n",
    "ax[0].set_yticks([])\n",
    "plt.tight_layout()\n",
    "#plt.savefig('figures/11_4.png', dpi=300)\n",
    "plt.show()"
   ]
  },
  {
   "cell_type": "code",
   "execution_count": 5,
   "metadata": {},
   "outputs": [
    {
     "data": {
      "text/plain": [
       "array([[-1., -1., -1., ..., -1., -1., -1.],\n",
       "       [-1., -1., -1., ..., -1., -1., -1.],\n",
       "       [-1., -1., -1., ..., -1., -1., -1.],\n",
       "       ...,\n",
       "       [-1., -1., -1., ..., -1., -1., -1.],\n",
       "       [-1., -1., -1., ..., -1., -1., -1.],\n",
       "       [-1., -1., -1., ..., -1., -1., -1.]])"
      ]
     },
     "execution_count": 5,
     "metadata": {},
     "output_type": "execute_result"
    }
   ],
   "source": [
    "from sklearn.preprocessing import MinMaxScaler\n",
    "\n",
    "scaler = MinMaxScaler(feature_range=(-1, 1))\n",
    "X = scaler.fit_transform(X)\n",
    "X"
   ]
  },
  {
   "cell_type": "code",
   "execution_count": 35,
   "metadata": {},
   "outputs": [
    {
     "name": "stdout",
     "output_type": "stream",
     "text": [
      "False\n",
      "False\n"
     ]
    }
   ],
   "source": [
    "import torch\n",
    "\n",
    "if torch.cuda.is_available():\n",
    "    device = torch.device(\"cuda\")\n",
    "    print(\"Running on CUDA GPU\")\n",
    "elif torch.backends.mps.is_available():\n",
    "    device = torch.device(\"mps\")\n",
    "    print(\"Running on MPS GPU\")\n",
    "else:\n",
    "    device = torch.device(\"cpu\")\n",
    "    print(\"Running on CPU\")"
   ]
  },
  {
   "cell_type": "code",
   "execution_count": 6,
   "metadata": {},
   "outputs": [
    {
     "name": "stdout",
     "output_type": "stream",
     "text": [
      "Training set  : X-torch.Size([56000, 784]), y-torch.Size([56000])\n",
      "Validation set: X-torch.Size([7000, 784]), y-torch.Size([7000])\n",
      "Test set      : X-torch.Size([7000, 784]), y-torch.Size([7000])\n"
     ]
    }
   ],
   "source": [
    "import torch as t\n",
    "from sklearn.model_selection import train_test_split\n",
    "\n",
    "# 80% train; 10% validation; 10% test\n",
    "X_train, X_test, y_train, y_test = train_test_split(X, y, test_size=0.2, random_state=42)\n",
    "X_test, X_val, y_test, y_val = train_test_split(X_test, y_test, test_size=0.5, random_state=42)\n",
    "\n",
    "X_train = t.tensor(X_train, dtype=t.float32)\n",
    "y_train = t.tensor(y_train, dtype=t.long)\n",
    "X_val = t.tensor(X_val, dtype=t.float32)\n",
    "y_val = t.tensor(y_val, dtype=t.long)\n",
    "X_test = t.tensor(X_test, dtype=t.float32)\n",
    "y_test = t.tensor(y_test, dtype=t.long)\n",
    "\n",
    "print(f\"Training set  : X-{X_train.shape}, y-{y_train.shape}\")\n",
    "print(f\"Validation set: X-{X_val.shape}, y-{y_val.shape}\")\n",
    "print(f\"Test set      : X-{X_test.shape}, y-{y_test.shape}\")"
   ]
  },
  {
   "cell_type": "code",
   "execution_count": 39,
   "metadata": {},
   "outputs": [
    {
     "name": "stdout",
     "output_type": "stream",
     "text": [
      "Running on CPU\n"
     ]
    },
    {
     "data": {
      "text/plain": [
       "Net(\n",
       "  (fc1): Linear(in_features=784, out_features=500, bias=True)\n",
       "  (fc2): Linear(in_features=500, out_features=10, bias=True)\n",
       ")"
      ]
     },
     "execution_count": 39,
     "metadata": {},
     "output_type": "execute_result"
    }
   ],
   "source": [
    "import math\n",
    "import torch.nn as nn\n",
    "import torch.nn.functional as F\n",
    "import torch.optim as optim\n",
    "from torch.utils.data import DataLoader, TensorDataset\n",
    "import matplotlib.pyplot as plt\n",
    "\n",
    "class Net(nn.Module):\n",
    "    def __init__(self):\n",
    "        super(Net, self).__init__()\n",
    "        self.fc1 = nn.Linear(28 * 28, 500)\n",
    "        self.fc2 = nn.Linear(500, 10)\n",
    "\n",
    "    def forward(self, x):\n",
    "        x = x.view(-1, 28 * 28)\n",
    "        x = F.relu(self.fc1(x))\n",
    "        x = self.fc2(x)\n",
    "        return x\n",
    "\n",
    "net = Net()\n",
    "\n",
    "if torch.cuda.is_available():\n",
    "    device = torch.device(\"cuda\")\n",
    "    print(\"Running on CUDA GPU\")\n",
    "elif torch.backends.mps.is_available():\n",
    "    device = torch.device(\"mps\")\n",
    "    print(\"Running on MPS GPU\")\n",
    "else:\n",
    "    device = torch.device(\"cpu\")\n",
    "    print(\"Running on CPU\")\n",
    "\n",
    "net.to(device)"
   ]
  },
  {
   "cell_type": "code",
   "execution_count": 40,
   "metadata": {},
   "outputs": [
    {
     "name": "stdout",
     "output_type": "stream",
     "text": [
      "Total batches: 875\n",
      "Log interval : every 43 batches\n"
     ]
    }
   ],
   "source": [
    "# loss_function = nn.CrossEntropyLoss()\n",
    "loss_function = F.cross_entropy\n",
    "\n",
    "train_loader = DataLoader(TensorDataset(X_train, y_train), batch_size=64, shuffle=True)\n",
    "val_loader = DataLoader(TensorDataset(X_val, y_val), batch_size=64, shuffle=False)\n",
    "\n",
    "total_batches = len(train_loader)\n",
    "print(f\"Total batches: {total_batches}\")\n",
    "log_interval = max(1, math.floor(total_batches / 20))\n",
    "print(f\"Log interval : every {log_interval} batches\")\n",
    "\n",
    "train_losses = []\n",
    "val_losses = []"
   ]
  },
  {
   "cell_type": "code",
   "execution_count": 41,
   "metadata": {},
   "outputs": [
    {
     "name": "stdout",
     "output_type": "stream",
     "text": [
      "[1, 1] avg training loss: 2.319, avg validation loss: 2.327\n",
      "[1, 43] avg training loss: 0.997, avg validation loss: 0.534\n",
      "[1, 86] avg training loss: 0.509, avg validation loss: 0.405\n",
      "[1, 129] avg training loss: 0.389, avg validation loss: 0.391\n",
      "[1, 172] avg training loss: 0.378, avg validation loss: 0.354\n",
      "[1, 215] avg training loss: 0.385, avg validation loss: 0.360\n",
      "[1, 258] avg training loss: 0.366, avg validation loss: 0.338\n",
      "[1, 301] avg training loss: 0.327, avg validation loss: 0.314\n",
      "[1, 344] avg training loss: 0.314, avg validation loss: 0.272\n",
      "[1, 387] avg training loss: 0.270, avg validation loss: 0.305\n",
      "[1, 430] avg training loss: 0.267, avg validation loss: 0.274\n",
      "[1, 473] avg training loss: 0.266, avg validation loss: 0.233\n",
      "[1, 516] avg training loss: 0.271, avg validation loss: 0.237\n",
      "[1, 559] avg training loss: 0.249, avg validation loss: 0.232\n",
      "[1, 602] avg training loss: 0.246, avg validation loss: 0.207\n"
     ]
    }
   ],
   "source": [
    "optimizer = optim.Adam(net.parameters(), lr=0.001)\n",
    "\n",
    "for epoch in range(3):  # loop over the dataset multiple times\n",
    "\n",
    "    running_training_loss = 0\n",
    "    total_train_samples = 0\n",
    "    net.train()  # Set the network to training mode\n",
    "    for i, data in enumerate(train_loader, 0):\n",
    "        inputs, labels = data\n",
    "        # Zero the parameter gradients\n",
    "        optimizer.zero_grad()\n",
    "        # Forward pass\n",
    "        outputs = net(inputs)\n",
    "        loss = loss_function(outputs, labels)\n",
    "        # Backward pass and optimize\n",
    "        loss.backward()\n",
    "        optimizer.step()\n",
    "\n",
    "        # weighted average of the training loss\n",
    "        running_training_loss += loss.item() * inputs.shape[0]\n",
    "        total_train_samples += inputs.shape[0]\n",
    "        # Log at the specified interval\n",
    "        if (i + 1) % log_interval == 0 or i == 0 or i == total_batches - 1:\n",
    "            # Training loss\n",
    "            avg_training_loss = running_training_loss / total_train_samples\n",
    "            train_losses.append(avg_training_loss)\n",
    "            # Validation loss\n",
    "            net.eval()  # Set the network to evaluation mode\n",
    "            # weighted average of the validation loss\n",
    "            running_val_loss = 0\n",
    "            total_val_samples = 0\n",
    "            with t.no_grad():\n",
    "                for val_data in val_loader:\n",
    "                    inputs, labels = val_data\n",
    "                    outputs = net(inputs)\n",
    "                    val_loss = loss_function(outputs, labels)\n",
    "                    running_val_loss += val_loss.item() * inputs.shape[0]\n",
    "                    total_val_samples += inputs.shape[0]\n",
    "            avg_val_loss = running_val_loss / total_val_samples\n",
    "            val_losses.append(avg_val_loss)\n",
    "            net.train()  # Set the network back to training mode\n",
    "\n",
    "            print(f'[{epoch + 1}, {i + 1}] avg training loss: {avg_training_loss:.3f}, avg validation loss: {avg_val_loss:.3f}')\n",
    "            running_training_loss = 0\n",
    "            total_train_samples = 0\n",
    "\n",
    "print('Finished Training')"
   ]
  },
  {
   "cell_type": "code",
   "execution_count": null,
   "metadata": {},
   "outputs": [
    {
     "data": {
      "image/png": "[encoded data removed]",
      "text/plain": [
       "<Figure size 640x480 with 1 Axes>"
      ]
     },
     "metadata": {},
     "output_type": "display_data"
    }
   ],
   "source": [
    "# Plot the training and validation losses\n",
    "plt.plot(train_losses, label='Training loss')\n",
    "plt.plot(val_losses, label='Validation loss')\n",
    "plt.xlabel('Iterations')\n",
    "plt.ylabel('Loss')\n",
    "plt.title('Training and Validation Loss')\n",
    "plt.legend()\n",
    "plt.show()"
   ]
  },
  {
   "cell_type": "code",
   "execution_count": null,
   "metadata": {},
   "outputs": [],
   "source": []
  },
  {
   "cell_type": "code",
   "execution_count": null,
   "metadata": {},
   "outputs": [],
   "source": []
  }
 ],
 "metadata": {
  "kernelspec": {
   "display_name": "Python 3",
   "language": "python",
   "name": "python3"
  },
  "language_info": {
   "codemirror_mode": {
    "name": "ipython",
    "version": 3
   },
   "file_extension": ".py",
   "mimetype": "text/x-python",
   "name": "python",
   "nbconvert_exporter": "python",
   "pygments_lexer": "ipython3",
   "version": "3.11.7"
  }
 },
 "nbformat": 4,
 "nbformat_minor": 2
}
